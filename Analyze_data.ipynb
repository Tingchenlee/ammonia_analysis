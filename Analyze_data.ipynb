{
 "cells": [
  {
   "cell_type": "code",
   "execution_count": 1,
   "metadata": {},
   "outputs": [],
   "source": [
    "import os\n",
    "import glob\n",
    "import itertools\n",
    "from random import randint\n",
    "import pandas as pd\n",
    "import numpy as np\n",
    "import csv\n",
    "import matplotlib.pyplot as plt\n",
    "# import seaborn\n",
    "# plt.style.use('seaborn-white')\n",
    "from pathlib import Path\n",
    "\n",
    "\n",
    "import matplotlib.cm as cm\n",
    "from IPython.display import Image\n",
    "import git"
   ]
  },
  {
   "cell_type": "code",
   "execution_count": 2,
   "metadata": {},
   "outputs": [],
   "source": [
    "from rmgpy.molecule import Molecule\n",
    "from rmgpy.data.base import Database"
   ]
  },
  {
   "cell_type": "markdown",
   "metadata": {},
   "source": [
    " ### Save the species pictures for a model (renaming with species names instead of smiles"
   ]
  },
  {
   "cell_type": "code",
   "execution_count": 3,
   "metadata": {},
   "outputs": [
    {
     "name": "stdout",
     "output_type": "stream",
     "text": [
      "b027c2_added_base_folder_wi\n"
     ]
    }
   ],
   "source": [
    "# get the current git repo\n",
    "import git\n",
    "repo = git.Repo('/work/westgroup/lee.ting/cantera/ammonia/')\n",
    "# repo.git.checkout('master')\n",
    "git_sha = str(repo.head.commit)[0:6]\n",
    "git_msg = str(repo.head.commit.message)[0:20].replace(\" \", \"_\").replace(\"'\", \"_\")\n",
    "commit_folder = git_sha + \"_\" + git_msg\n",
    "print(commit_folder)\n",
    "\n",
    "# save the pictures for molecules in the RMG run\n",
    "overwrite = False\n",
    "commit = commit_folder\n",
    "dictionary_filename = \"/work/westgroup/lee.ting/cantera/ammonia/base/chemkin/species_dictionary.txt\"\n",
    "specs = Database().get_species(dictionary_filename, resonance=False)\n",
    "\n",
    "images_dir = os.path.join(f\"/work/westgroup/lee.ting/cantera/ammonia_analysis/{commit}/species_pictures\")\n",
    "os.makedirs(images_dir, exist_ok=True)\n",
    "for name, species in specs.items():\n",
    "    filepath = os.path.join(images_dir, name + \".png\")\n",
    "    if not overwrite and os.path.exists(filepath):\n",
    "        continue\n",
    "    species.molecule[0].draw(filepath)"
   ]
  },
  {
   "cell_type": "markdown",
   "metadata": {},
   "source": [
    "### Convert dot files to prettydot (dot with molecule structure)"
   ]
  },
  {
   "cell_type": "code",
   "execution_count": 20,
   "metadata": {},
   "outputs": [
    {
     "name": "stdout",
     "output_type": "stream",
     "text": [
      "../ammonia_analysis/b027c2_added_base_folder_wi/IdealGasReactor/steady_state/400/flux_diagrams/0_1/0_02475/reaction_path_C_gas_end.dot\n",
      "alysis/b027c2_added_base_fo\n"
     ]
    },
    {
     "ename": "FileNotFoundError",
     "evalue": "[Errno 2] No such file or directory: 'alysis/b027c2_added_base_fo/species_pictures/'",
     "output_type": "error",
     "traceback": [
      "\u001b[0;31m---------------------------------------------------------------------------\u001b[0m",
      "\u001b[0;31mFileNotFoundError\u001b[0m                         Traceback (most recent call last)",
      "\u001b[0;32m<ipython-input-20-674b90c1f3dd>\u001b[0m in \u001b[0;36m<module>\u001b[0;34m\u001b[0m\n\u001b[1;32m     92\u001b[0m         \u001b[0mprint\u001b[0m\u001b[0;34m(\u001b[0m\u001b[0mpath\u001b[0m\u001b[0;34m)\u001b[0m\u001b[0;34m\u001b[0m\u001b[0;34m\u001b[0m\u001b[0m\n\u001b[1;32m     93\u001b[0m         \u001b[0mprint\u001b[0m\u001b[0;34m(\u001b[0m\u001b[0mcommit\u001b[0m\u001b[0;34m)\u001b[0m\u001b[0;34m\u001b[0m\u001b[0;34m\u001b[0m\u001b[0m\n\u001b[0;32m---> 94\u001b[0;31m         \u001b[0mprettydot\u001b[0m\u001b[0;34m(\u001b[0m\u001b[0mcommit\u001b[0m\u001b[0;34m,\u001b[0m \u001b[0mpath\u001b[0m\u001b[0;34m,\u001b[0m \u001b[0mstrip_line_labels\u001b[0m\u001b[0;34m=\u001b[0m\u001b[0;32mFalse\u001b[0m\u001b[0;34m)\u001b[0m\u001b[0;34m\u001b[0m\u001b[0;34m\u001b[0m\u001b[0m\n\u001b[0m",
      "\u001b[0;32m<ipython-input-20-674b90c1f3dd>\u001b[0m in \u001b[0;36mprettydot\u001b[0;34m(commit_path, dotfilepath, strip_line_labels)\u001b[0m\n\u001b[1;32m     33\u001b[0m \u001b[0;34m\u001b[0m\u001b[0m\n\u001b[1;32m     34\u001b[0m     \u001b[0mspecies_pictures\u001b[0m \u001b[0;34m=\u001b[0m \u001b[0mdict\u001b[0m\u001b[0;34m(\u001b[0m\u001b[0;34m)\u001b[0m\u001b[0;34m\u001b[0m\u001b[0;34m\u001b[0m\u001b[0m\n\u001b[0;32m---> 35\u001b[0;31m     \u001b[0;32mfor\u001b[0m \u001b[0mpicturefile\u001b[0m \u001b[0;32min\u001b[0m \u001b[0mos\u001b[0m\u001b[0;34m.\u001b[0m\u001b[0mlistdir\u001b[0m\u001b[0;34m(\u001b[0m\u001b[0mpictures_directory\u001b[0m\u001b[0;34m)\u001b[0m\u001b[0;34m:\u001b[0m\u001b[0;34m\u001b[0m\u001b[0;34m\u001b[0m\u001b[0m\n\u001b[0m\u001b[1;32m     36\u001b[0m         \u001b[0mmatch\u001b[0m \u001b[0;34m=\u001b[0m \u001b[0mrePicture\u001b[0m\u001b[0;34m.\u001b[0m\u001b[0mmatch\u001b[0m\u001b[0;34m(\u001b[0m\u001b[0mpicturefile\u001b[0m\u001b[0;34m)\u001b[0m\u001b[0;34m\u001b[0m\u001b[0;34m\u001b[0m\u001b[0m\n\u001b[1;32m     37\u001b[0m         \u001b[0;32mif\u001b[0m \u001b[0mmatch\u001b[0m\u001b[0;34m:\u001b[0m\u001b[0;34m\u001b[0m\u001b[0;34m\u001b[0m\u001b[0m\n",
      "\u001b[0;31mFileNotFoundError\u001b[0m: [Errno 2] No such file or directory: 'alysis/b027c2_added_base_fo/species_pictures/'"
     ]
    }
   ],
   "source": [
    "def prettydot(commit_path, dotfilepath, strip_line_labels=False):\n",
    "    \"\"\"\n",
    "    Make a prettier version of the dot file (flux diagram)\n",
    "\n",
    "    Assumes the species pictures are stored in a directory\n",
    "    called 'species_pictures' alongside the dot file.\n",
    "    \"\"\"\n",
    "    import os, sys, re\n",
    "    import subprocess\n",
    "    import git\n",
    "    \n",
    "#     use git to get picture directory\n",
    "#    repo = git.Repo('/work/westgroup/lee.ting/cantera/ammonia_analysis')\n",
    "#    git_sha = str(repo.head.commit)[0:6]\n",
    "#    git_msg = str(repo.head.commit.message)[0:20].replace(\" \", \"_\").replace(\"'\", \"_\")\n",
    "#    commit_folder = git_sha + \"_\" + git_msg\n",
    "    \n",
    "    \n",
    "    \n",
    "    pic_dir = f\"{commit_path}/species_pictures/\"\n",
    "    pictures_directory = pic_dir\n",
    "\n",
    "    if strip_line_labels:\n",
    "        print(\"stripping edge (line) labels\")\n",
    "\n",
    "    reSize = re.compile('size=\"5,6\"\\;page=\"5,6\"')\n",
    "    reNode = re.compile(\n",
    "        '(?P<node>s\\d+)\\ \\[\\ fontname=\"Helvetica\",\\ label=\"(?P<label>[^\"]*)\"\\]\\;'\n",
    "    )\n",
    "\n",
    "    rePicture = re.compile(\"(?P<smiles>.+?)\\((?P<id>\\d+)\\)\\.png\")\n",
    "    reLabel = re.compile(\"(?P<name>.+?)\\((?P<id>\\d+)\\)$\")\n",
    "\n",
    "    species_pictures = dict()\n",
    "    for picturefile in os.listdir(pictures_directory):\n",
    "        match = rePicture.match(picturefile)\n",
    "        if match:\n",
    "            species_pictures[match.group(\"id\")] = picturefile\n",
    "        else:\n",
    "            pass\n",
    "            # print(picturefile, \"didn't look like a picture\")\n",
    "\n",
    "    filepath = dotfilepath\n",
    "\n",
    "    if not open(filepath).readline().startswith(\"digraph\"):\n",
    "        raise ValueError(\"{0} - not a digraph\".format(filepath))\n",
    "\n",
    "    infile = open(filepath)\n",
    "    prettypath = filepath.replace(\".dot\", \"\", 1) + \"-pretty.dot\"\n",
    "    outfile = open(prettypath, \"w\")\n",
    "\n",
    "    for line in infile:\n",
    "        (line, changed_size) = reSize.subn('size=\"12,12\";page=\"12,12\"', line)\n",
    "        match = reNode.search(line)\n",
    "        if match:\n",
    "            label = match.group(\"label\")\n",
    "            idmatch = reLabel.match(label)\n",
    "            if idmatch:\n",
    "                idnumber = idmatch.group(\"id\")\n",
    "                if idnumber in species_pictures:\n",
    "                    line = (\n",
    "                        f'%s [ image=\"{pic_dir}%s\" label=\"\" width=\"0.5\" height=\"0.5\" imagescale=false fixedsize=false color=\"none\" ];\\n'\n",
    "                        % (match.group(\"node\"), species_pictures[idnumber])\n",
    "                    )\n",
    "\n",
    "        # rankdir=\"LR\" to make graph go left>right instead of top>bottom\n",
    "\n",
    "        if strip_line_labels:\n",
    "            line = re.sub('label\\s*=\\s*\"\\s*[\\d.]+\"', 'label=\"\"', line)\n",
    "\n",
    "        # change colours\n",
    "        line = re.sub('color=\"0.7,\\ (.*?),\\ 0.9\"', r'color=\"1.0, \\1, 0.7*\\1\"', line)\n",
    "\n",
    "        outfile.write(line)\n",
    "\n",
    "    outfile.close()\n",
    "    infile.close()\n",
    "    print(f\"Graph saved to: {prettypath}\")\n",
    "    os.system(f'dot {prettypath} -Tpng -o{prettypath+\".png\"} -Gdpi=200')\n",
    "    \n",
    "    return prettypath\n",
    "\n",
    "\n",
    "# read in each filename into dictionary. \n",
    "for path in Path('../').rglob('*.dot'):\n",
    "    path_str = str(path)\n",
    "    start_index = path_str.find(f'../ammonia_analysis/{commit_folder}')\n",
    "    \n",
    "    if start_index != -1:\n",
    "        commit = path_str[(start_index+13):(start_index+40)]\n",
    "        path = path_str\n",
    "        print(path)\n",
    "        print(commit)\n",
    "        prettydot(commit, path, strip_line_labels=False)"
   ]
  },
  {
   "cell_type": "markdown",
   "metadata": {},
   "source": [
    "## Git-python: checkout master branch"
   ]
  },
  {
   "cell_type": "code",
   "execution_count": 21,
   "metadata": {},
   "outputs": [
    {
     "name": "stdout",
     "output_type": "stream",
     "text": [
      "42310c :  added_initial_ammoni\n"
     ]
    }
   ],
   "source": [
    "import git\n",
    "repo = git.Repo('/work/westgroup/lee.ting/cantera/ammonia_analysis/')\n",
    "# repo.git.checkout('master')\n",
    "git_sha = str(repo.head.commit)[0:6]\n",
    "git_msg = str(repo.head.commit.message)[0:20].replace(\" \", \"_\").replace(\"'\", \"_\")\n",
    "print(git_sha,': ', git_msg)\n",
    "\n",
    "current_commit = git_sha+\"_\"+git_msg"
   ]
  },
  {
   "cell_type": "markdown",
   "metadata": {},
   "source": [
    "## checkout 1 commit back"
   ]
  },
  {
   "cell_type": "code",
   "execution_count": null,
   "metadata": {},
   "outputs": [],
   "source": [
    "# repo.git.checkout('HEAD^1')\n",
    "# sha = str(repo.head.commit)\n",
    "# msg = str(repo.head.commit.message)\n",
    "# print(sha,': ', msg)"
   ]
  },
  {
   "cell_type": "markdown",
   "metadata": {},
   "source": [
    "## checkout 2 commits back"
   ]
  },
  {
   "cell_type": "code",
   "execution_count": null,
   "metadata": {},
   "outputs": [],
   "source": [
    "# repo = git.Repo('/work/westgroup/ChrisB/meoh-synthesis_RMG/meOH-synthesis/')\n",
    "# repo.git.checkout('HEAD^1')\n",
    "# sha = repo.head.commit\n",
    "# msg = repo.head.commit.message\n",
    "# print(sha,': ', msg)"
   ]
  },
  {
   "cell_type": "markdown",
   "metadata": {},
   "source": [
    "## Read in data"
   ]
  },
  {
   "cell_type": "code",
   "execution_count": 22,
   "metadata": {},
   "outputs": [
    {
     "name": "stdout",
     "output_type": "stream",
     "text": [
      "['alysis/b027c2_added_base_fo']\n"
     ]
    }
   ],
   "source": [
    "commit_list = []\n",
    "\n",
    "# read in each filename into dictionary. \n",
    "for path in Path('../').rglob('*.csv'):\n",
    "    path_str = str(path)\n",
    "    start_index = path_str.find('../ammonia_analysis/')\n",
    "    \n",
    "    if start_index != -1:\n",
    "        commit = path_str[(start_index+13):(start_index+40)]\n",
    "        if commit not in commit_list:\n",
    "            commit_list.append(commit)\n",
    "        \n",
    "print(commit_list)   \n",
    "# os.remove(\"endrxncsv.csv\")"
   ]
  },
  {
   "cell_type": "code",
   "execution_count": 23,
   "metadata": {
    "scrolled": true
   },
   "outputs": [
    {
     "ename": "NameError",
     "evalue": "name 'aggdata' is not defined",
     "output_type": "error",
     "traceback": [
      "\u001b[0;31m---------------------------------------------------------------------------\u001b[0m",
      "\u001b[0;31mNameError\u001b[0m                                 Traceback (most recent call last)",
      "\u001b[0;32m<ipython-input-23-ac4d7521791f>\u001b[0m in \u001b[0;36m<module>\u001b[0;34m\u001b[0m\n\u001b[1;32m     26\u001b[0m                     \u001b[0mprint\u001b[0m\u001b[0;34m(\u001b[0m\u001b[0mpath\u001b[0m\u001b[0;34m)\u001b[0m\u001b[0;34m\u001b[0m\u001b[0;34m\u001b[0m\u001b[0m\n\u001b[1;32m     27\u001b[0m \u001b[0;34m\u001b[0m\u001b[0m\n\u001b[0;32m---> 28\u001b[0;31m     \u001b[0mdata_dict\u001b[0m\u001b[0;34m.\u001b[0m\u001b[0mupdate\u001b[0m\u001b[0;34m(\u001b[0m\u001b[0;34m{\u001b[0m\u001b[0mcommit\u001b[0m\u001b[0;34m:\u001b[0m\u001b[0maggdata\u001b[0m\u001b[0;34m}\u001b[0m\u001b[0;34m)\u001b[0m\u001b[0;34m\u001b[0m\u001b[0;34m\u001b[0m\u001b[0m\n\u001b[0m\u001b[1;32m     29\u001b[0m \u001b[0;34m\u001b[0m\u001b[0m\n",
      "\u001b[0;31mNameError\u001b[0m: name 'aggdata' is not defined"
     ]
    }
   ],
   "source": [
    "# read last line from each CSV file\n",
    "data_dict = {}\n",
    "\n",
    "# if true, runs analysis on current commit only\n",
    "one_commit = True\n",
    "if one_commit == True:\n",
    "    commit_list = [current_commit]\n",
    "    \n",
    "\n",
    "for commit in commit_list:\n",
    "    first_file = True\n",
    "    for path in Path('../ammonia_analysis/' + commit).rglob('*.csv'):\n",
    "        \n",
    "        path_str = str(path)\n",
    "        if \"/csp/\" not in path_str and \"/steady_state/\" not in path_str:\n",
    "            if os.stat(path_str).st_size != 0:\n",
    "                if first_file == True: \n",
    "                    data = pd.read_csv(path_str)\n",
    "                    aggdata = data.tail(1)\n",
    "                    first_file = False\n",
    "                    print('ran')\n",
    "                else: \n",
    "                    data = pd.read_csv(path_str)\n",
    "                    aggdata = aggdata.append(data.tail(1))\n",
    "                    print(len(aggdata))\n",
    "                    print(path)\n",
    "            \n",
    "    data_dict.update({commit:aggdata})\n",
    "\n"
   ]
  },
  {
   "cell_type": "code",
   "execution_count": 24,
   "metadata": {},
   "outputs": [
    {
     "ename": "NameError",
     "evalue": "name 'aggdata' is not defined",
     "output_type": "error",
     "traceback": [
      "\u001b[0;31m---------------------------------------------------------------------------\u001b[0m",
      "\u001b[0;31mNameError\u001b[0m                                 Traceback (most recent call last)",
      "\u001b[0;32m<ipython-input-24-4414c1f62ac2>\u001b[0m in \u001b[0;36m<module>\u001b[0;34m\u001b[0m\n\u001b[1;32m     26\u001b[0m                     \u001b[0mprint\u001b[0m\u001b[0;34m(\u001b[0m\u001b[0mpath\u001b[0m\u001b[0;34m)\u001b[0m\u001b[0;34m\u001b[0m\u001b[0;34m\u001b[0m\u001b[0m\n\u001b[1;32m     27\u001b[0m \u001b[0;34m\u001b[0m\u001b[0m\n\u001b[0;32m---> 28\u001b[0;31m     \u001b[0mdata_dict_ss\u001b[0m\u001b[0;34m.\u001b[0m\u001b[0mupdate\u001b[0m\u001b[0;34m(\u001b[0m\u001b[0;34m{\u001b[0m\u001b[0mcommit\u001b[0m\u001b[0;34m:\u001b[0m\u001b[0maggdata\u001b[0m\u001b[0;34m}\u001b[0m\u001b[0;34m)\u001b[0m\u001b[0;34m\u001b[0m\u001b[0;34m\u001b[0m\u001b[0m\n\u001b[0m",
      "\u001b[0;31mNameError\u001b[0m: name 'aggdata' is not defined"
     ]
    }
   ],
   "source": [
    "# read last line from each CSV file\n",
    "data_dict_ss = {}\n",
    "\n",
    "# if true, runs analysis on current commit only\n",
    "one_commit = True\n",
    "if one_commit == True:\n",
    "    commit_list = [current_commit]\n",
    "    \n",
    "\n",
    "for commit in commit_list:\n",
    "    first_file = True\n",
    "    for path in Path('../amonia_analysis/' + commit).rglob('*.csv'):\n",
    "        \n",
    "        path_str = str(path)\n",
    "        if \"/csp/\" not in path_str and \"/steady_state/\" in path_str:\n",
    "            if os.stat(path_str).st_size != 0:\n",
    "                if first_file == True: \n",
    "                    data = pd.read_csv(path_str)\n",
    "                    aggdata = data.tail(1)\n",
    "                    first_file = False\n",
    "                    print('ran')\n",
    "                else: \n",
    "                    data = pd.read_csv(path_str)\n",
    "                    aggdata = aggdata.append(data.tail(1))\n",
    "                    print(len(aggdata))\n",
    "                    print(path)\n",
    "            \n",
    "    data_dict_ss.update({commit:aggdata})"
   ]
  },
  {
   "cell_type": "markdown",
   "metadata": {},
   "source": [
    "## Turn over frequency comparison\n",
    "\n",
    "The mechanisms listed below are the pathways that are of interest in TOF.\n",
    "\n"
   ]
  },
  {
   "cell_type": "code",
   "execution_count": null,
   "metadata": {},
   "outputs": [],
   "source": [
    "Image('../images/Grabow_plots/Grabow_TOF.png',width = 700, height = 300)"
   ]
  },
  {
   "cell_type": "code",
   "execution_count": 27,
   "metadata": {
    "scrolled": false
   },
   "outputs": [
    {
     "ename": "KeyError",
     "evalue": "'42310c_added_initial_ammoni'",
     "output_type": "error",
     "traceback": [
      "\u001b[0;31m---------------------------------------------------------------------------\u001b[0m",
      "\u001b[0;31mKeyError\u001b[0m                                  Traceback (most recent call last)",
      "\u001b[0;32m<ipython-input-27-74c0163aafa0>\u001b[0m in \u001b[0;36m<module>\u001b[0;34m\u001b[0m\n\u001b[1;32m     11\u001b[0m \u001b[0;34m\u001b[0m\u001b[0m\n\u001b[1;32m     12\u001b[0m     \u001b[0;31m# get keys for O2 (X_o2 initial)\u001b[0m\u001b[0;34m\u001b[0m\u001b[0;34m\u001b[0m\u001b[0;34m\u001b[0m\u001b[0m\n\u001b[0;32m---> 13\u001b[0;31m     \u001b[0mO2_ratio\u001b[0m \u001b[0;34m=\u001b[0m \u001b[0mdata_dict\u001b[0m\u001b[0;34m[\u001b[0m\u001b[0mcommit_list\u001b[0m\u001b[0;34m[\u001b[0m\u001b[0;36m0\u001b[0m\u001b[0;34m]\u001b[0m\u001b[0;34m]\u001b[0m\u001b[0;34m[\u001b[0m\u001b[0;34m'X_o2 initial'\u001b[0m\u001b[0;34m]\u001b[0m\u001b[0;34m.\u001b[0m\u001b[0munique\u001b[0m\u001b[0;34m(\u001b[0m\u001b[0;34m)\u001b[0m\u001b[0;34m\u001b[0m\u001b[0;34m\u001b[0m\u001b[0m\n\u001b[0m\u001b[1;32m     14\u001b[0m     \u001b[0mprint\u001b[0m\u001b[0;34m(\u001b[0m\u001b[0mO2_ratio\u001b[0m\u001b[0;34m)\u001b[0m\u001b[0;34m\u001b[0m\u001b[0;34m\u001b[0m\u001b[0m\n\u001b[1;32m     15\u001b[0m \u001b[0;34m\u001b[0m\u001b[0m\n",
      "\u001b[0;31mKeyError\u001b[0m: '42310c_added_initial_ammoni'"
     ]
    }
   ],
   "source": [
    "# compare the rate of production for CO2,  H2O, CO, and CH3OH\n",
    "\n",
    "for commit in commit_list:\n",
    "# commit = '1054d4_including_David_s_vd'  \n",
    "\n",
    "    conditions = ['O2(2) surface ROP [kmol/m^2 s]', 'NH3(6) surface ROP [kmol/m^2 s]', \\\n",
    "                 'NO(5) surface ROP [kmol/m^2 s]', 'N2O(7) surface ROP [kmol/m^2 s]', \\\n",
    "                 'N2(4) surface ROP [kmol/m^2 s]']\n",
    "\n",
    "    temp = 500\n",
    "\n",
    "    # get keys for O2 (X_o2 initial)\n",
    "    O2_ratio = data_dict[commit_list[0]]['X_o2 initial'].unique()\n",
    "    print(O2_ratio)\n",
    "\n",
    "    fig, ax = plt.subplots(2,2,figsize=(15,15))\n",
    "\n",
    "    color_dict = { 0:\"b\", 1:\"g\", 2:\"r\", 3:\"y\"}\n",
    "    for p,j in enumerate(O2_ratio):\n",
    "        if p == 0:\n",
    "            for c,i in enumerate(conditions):\n",
    "                data_dict[commit][(data_dict[commit]['X_o2 initial'] == j) & (data_dict[commit]['T (C)'] == temp \\\n",
    "                    )].plot.scatter(x='NH3', y=i, label=i, ax =ax[0,0], color=color_dict[c])\n",
    "                ax[0,0].set_title(f'{commit} \\nmole frac O2 = {j}')\n",
    "                ax[0,0].autoscale(enable=True, axis='y')\n",
    "        if p == 1:\n",
    "            for c,i in enumerate(conditions):\n",
    "                data_dict[commit][(data_dict[commit]['X_o2 initial'] == j) & (data_dict[commit]['T (C)'] == temp \\\n",
    "                    )].plot.scatter(x='NH3', y=i, label=i, ax =ax[0,1], color=color_dict[c])\n",
    "                ax[0,1].set_title(f'{commit} \\nmole frac O2 = {j}')\n",
    "\n",
    "        if p == 2:\n",
    "            for c,i in enumerate(conditions):\n",
    "                data_dict[commit][(data_dict[commit]['X_o2 initial'] == j) & (data_dict[commit]['T (C)'] == temp \\\n",
    "                    )].plot.scatter(x='NH3', y=i, label=i, ax =ax[1,0], color=color_dict[c])\n",
    "                ax[1,0].set_title(f'{commit} \\nmole frac O2 = {j}')\n",
    "\n",
    "        if p == 3:\n",
    "            for c,i in enumerate(conditions):\n",
    "                data_dict[commit][(data_dict[commit]['X_o2 initial'] == j) & (data_dict[commit]['T (C)'] == temp \\\n",
    "                    )].plot.scatter(x='NH3', y=i, label=i, ax =ax[1,1], color=color_dict[c])\n",
    "                ax[1,1].set_title(f'{commit} \\nmole frac O2 = {j}')\n",
    "            \n",
    "\n"
   ]
  },
  {
   "cell_type": "code",
   "execution_count": 30,
   "metadata": {},
   "outputs": [
    {
     "ename": "NameError",
     "evalue": "name 'df_short' is not defined",
     "output_type": "error",
     "traceback": [
      "\u001b[0;31m---------------------------------------------------------------------------\u001b[0m",
      "\u001b[0;31mNameError\u001b[0m                                 Traceback (most recent call last)",
      "\u001b[0;32m<ipython-input-30-a06d1825213e>\u001b[0m in \u001b[0;36m<module>\u001b[0;34m\u001b[0m\n\u001b[0;32m----> 1\u001b[0;31m \u001b[0mdf_short\u001b[0m\u001b[0;34m[\u001b[0m\u001b[0mdf_short\u001b[0m\u001b[0;34m.\u001b[0m\u001b[0mcolumns\u001b[0m\u001b[0;34m[\u001b[0m\u001b[0;36m0\u001b[0m\u001b[0;34m]\u001b[0m\u001b[0;34m]\u001b[0m\u001b[0;34m\u001b[0m\u001b[0;34m\u001b[0m\u001b[0m\n\u001b[0m",
      "\u001b[0;31mNameError\u001b[0m: name 'df_short' is not defined"
     ]
    }
   ],
   "source": [
    "df_short[df_short.columns[0]]"
   ]
  },
  {
   "cell_type": "code",
   "execution_count": 29,
   "metadata": {},
   "outputs": [
    {
     "ename": "KeyError",
     "evalue": "'42310c_added_initial_ammoni'",
     "output_type": "error",
     "traceback": [
      "\u001b[0;31m---------------------------------------------------------------------------\u001b[0m",
      "\u001b[0;31mKeyError\u001b[0m                                  Traceback (most recent call last)",
      "\u001b[0;32m<ipython-input-29-985e5e5a1f18>\u001b[0m in \u001b[0;36m<module>\u001b[0;34m\u001b[0m\n\u001b[1;32m      4\u001b[0m \u001b[0mimp_species\u001b[0m \u001b[0;34m=\u001b[0m \u001b[0;34m[\u001b[0m\u001b[0;34m]\u001b[0m\u001b[0;34m\u001b[0m\u001b[0;34m\u001b[0m\u001b[0m\n\u001b[1;32m      5\u001b[0m \u001b[0;34m\u001b[0m\u001b[0m\n\u001b[0;32m----> 6\u001b[0;31m \u001b[0mdf_short\u001b[0m \u001b[0;34m=\u001b[0m \u001b[0mdata_dict\u001b[0m\u001b[0;34m[\u001b[0m\u001b[0mcommit_list\u001b[0m\u001b[0;34m[\u001b[0m\u001b[0;36m0\u001b[0m\u001b[0;34m]\u001b[0m\u001b[0;34m]\u001b[0m\u001b[0;34m\u001b[0m\u001b[0;34m\u001b[0m\u001b[0m\n\u001b[0m\u001b[1;32m      7\u001b[0m \u001b[0;34m\u001b[0m\u001b[0m\n\u001b[1;32m      8\u001b[0m \u001b[0mthresh\u001b[0m \u001b[0;34m=\u001b[0m \u001b[0;36m1e-5\u001b[0m\u001b[0;34m\u001b[0m\u001b[0;34m\u001b[0m\u001b[0m\n",
      "\u001b[0;31mKeyError\u001b[0m: '42310c_added_initial_ammoni'"
     ]
    }
   ],
   "source": [
    "# get the maximum values for the \n",
    "\n",
    "max_dist = 2\n",
    "imp_species = []\n",
    "\n",
    "df_short = data_dict[commit_list[0]]\n",
    "\n",
    "thresh = 1e-5\n",
    "\n",
    "print(f'\\nSpecies that have a concentration that goes above :{thresh}', '\\n')\n",
    "for i in range (13, len(df_short.columns)):\n",
    "    \n",
    "    column = df_short[df_short.columns[i]]\n",
    "    max_value = column.max()\n",
    "    max_index = column.idxmax()\n",
    "    \n",
    "    if max_value >= thresh and ((\"X\" in df_short.columns[i]) or \\\n",
    "                              (\"Pt\" in df_short.columns[i]) or \\\n",
    "                              (\"Pd\" in df_short.columns[i]) or \\\n",
    "                              (\"*\" in df_short.columns[i])) \\\n",
    "    and not \"ROP\" in df_short.columns[i] \\\n",
    "    and not \"sensitivity\" in df_short.columns[i]:\n",
    "            \n",
    "        imp_species.append(df_short.columns[i])\n",
    "        print(df_short.columns[i], \"Max = \" \"{:.10f}\".format(max_value))\n"
   ]
  },
  {
   "cell_type": "code",
   "execution_count": 31,
   "metadata": {},
   "outputs": [
    {
     "ename": "KeyError",
     "evalue": "'42310c_added_initial_ammoni'",
     "output_type": "error",
     "traceback": [
      "\u001b[0;31m---------------------------------------------------------------------------\u001b[0m",
      "\u001b[0;31mKeyError\u001b[0m                                  Traceback (most recent call last)",
      "\u001b[0;32m<ipython-input-31-8822cc70d799>\u001b[0m in \u001b[0;36m<module>\u001b[0;34m\u001b[0m\n\u001b[1;32m      9\u001b[0m \u001b[0;34m\u001b[0m\u001b[0m\n\u001b[1;32m     10\u001b[0m \u001b[0;31m# get keys for H2 (X_h2 initial)\u001b[0m\u001b[0;34m\u001b[0m\u001b[0;34m\u001b[0m\u001b[0;34m\u001b[0m\u001b[0m\n\u001b[0;32m---> 11\u001b[0;31m \u001b[0mH2_ratio\u001b[0m \u001b[0;34m=\u001b[0m \u001b[0mdata_dict\u001b[0m\u001b[0;34m[\u001b[0m\u001b[0mcommit_list\u001b[0m\u001b[0;34m[\u001b[0m\u001b[0;36m0\u001b[0m\u001b[0;34m]\u001b[0m\u001b[0;34m]\u001b[0m\u001b[0;34m[\u001b[0m\u001b[0;34m'X_h2 initial'\u001b[0m\u001b[0;34m]\u001b[0m\u001b[0;34m.\u001b[0m\u001b[0munique\u001b[0m\u001b[0;34m(\u001b[0m\u001b[0;34m)\u001b[0m\u001b[0;34m\u001b[0m\u001b[0;34m\u001b[0m\u001b[0m\n\u001b[0m\u001b[1;32m     12\u001b[0m \u001b[0;34m\u001b[0m\u001b[0m\n\u001b[1;32m     13\u001b[0m \u001b[0mfig\u001b[0m\u001b[0;34m,\u001b[0m \u001b[0max\u001b[0m \u001b[0;34m=\u001b[0m \u001b[0mplt\u001b[0m\u001b[0;34m.\u001b[0m\u001b[0msubplots\u001b[0m\u001b[0;34m(\u001b[0m\u001b[0;36m2\u001b[0m\u001b[0;34m,\u001b[0m\u001b[0;36m2\u001b[0m\u001b[0;34m,\u001b[0m\u001b[0mfigsize\u001b[0m\u001b[0;34m=\u001b[0m\u001b[0;34m(\u001b[0m\u001b[0;36m15\u001b[0m\u001b[0;34m,\u001b[0m\u001b[0;36m15\u001b[0m\u001b[0;34m)\u001b[0m\u001b[0;34m)\u001b[0m\u001b[0;34m\u001b[0m\u001b[0;34m\u001b[0m\u001b[0m\n",
      "\u001b[0;31mKeyError\u001b[0m: '42310c_added_initial_ammoni'"
     ]
    }
   ],
   "source": [
    "# compare the rate of production for CO2,  H2O, CO, and CH3OH\n",
    "\n",
    "\n",
    "# for commit in commit_list:\n",
    "commit = commit_list[0] \n",
    "\n",
    "conditions = imp_species\n",
    "temp = 400\n",
    "\n",
    "# get keys for H2 (X_h2 initial)\n",
    "H2_ratio = data_dict[commit_list[0]]['X_h2 initial'].unique()\n",
    "\n",
    "fig, ax = plt.subplots(2,2,figsize=(15,15))\n",
    "\n",
    "color_dict = { 0:\"b\", 1:\"g\", 2:\"r\", 3:\"y\", 4:\"c\", 5:\"m\", 6: \"k\", 7: \"lime\" , 8:\"brown\"}\n",
    "for p,j in enumerate(H2_ratio):\n",
    "    if p == 0:\n",
    "        for c,i in enumerate(conditions):\n",
    "            data_dict[commit][(data_dict[commit]['X_h2 initial'] == j) & (data_dict[commit]['T (C)'] == temp \\\n",
    "                )].plot.scatter(x='CO2/(CO2+CO)', y=i, label=i, ax =ax[0,0], color=color_dict[c])\n",
    "            ax[0,0].set_title(f'{commit} \\nmole frac H2 = {j}')\n",
    "            ax[0,0].set_ylabel(\"Site Fraction\")\n",
    "    if p == 1:\n",
    "        for c,i in enumerate(conditions):\n",
    "            data_dict[commit][(data_dict[commit]['X_h2 initial'] == j) & (data_dict[commit]['T (C)'] == temp \\\n",
    "                )].plot.scatter(x='CO2/(CO2+CO)', y=i, label=i, ax =ax[0,1], color=color_dict[c])\n",
    "            ax[0,1].set_title(f'{commit} \\nmole frac H2 = {j}')\n",
    "            ax[0,1].set_ylabel(\"Site Fraction\")\n",
    "    if p == 2:\n",
    "        for c,i in enumerate(conditions):\n",
    "            data_dict[commit][(data_dict[commit]['X_h2 initial'] == j) & (data_dict[commit]['T (C)'] == temp \\\n",
    "                )].plot.scatter(x='CO2/(CO2+CO)', y=i, label=i, ax =ax[1,0], color=color_dict[c],)\n",
    "            ax[1,0].set_title(f'{commit} \\nmole frac H2 = {j}')\n",
    "            ax[1,0].set_ylabel(\"Site Fraction\")\n",
    "    if p == 3:\n",
    "        for c,i in enumerate(conditions):\n",
    "            data_dict[commit][(data_dict[commit]['X_h2 initial'] == j) & (data_dict[commit]['T (C)'] == temp \\\n",
    "                )].plot.scatter(x='CO2/(CO2+CO)', y=i, label=i, ax =ax[1,1], color=color_dict[c])\n",
    "            ax[1,1].set_title(f'{commit} \\nmole frac H2 = {j}')\n",
    "            ax[1,1].set_ylabel(\"Site Fraction\")"
   ]
  },
  {
   "cell_type": "code",
   "execution_count": null,
   "metadata": {
    "scrolled": false
   },
   "outputs": [],
   "source": [
    "for commit in commit_list:\n",
    "# commit = 'a95dd5_added_new_family_sur'  \n",
    "\n",
    "    conditions = [\"CH3OH(8)\"]\n",
    "\n",
    "    temp = 500\n",
    "\n",
    "    # get keys for H2 (X_h2 initial)\n",
    "    H2_ratio = data_dict[commit_list[0]]['X_h2 initial'].unique()\n",
    "\n",
    "    fig, ax = plt.subplots(2,2,figsize=(15,15))\n",
    "\n",
    "    color_dict = { 0:\"b\", 1:\"g\", 2:\"r\", 3:\"y\", 4:\"c\", 5:\"m\"}\n",
    "    for p,j in enumerate(H2_ratio):\n",
    "        if p == 0:\n",
    "            for c,i in enumerate(conditions):\n",
    "                data_dict[commit][(data_dict[commit]['X_h2 initial'] == j) & (data_dict[commit]['T (C)'] == temp \\\n",
    "                    )].plot.scatter(x='CO2/(CO2+CO)', y=i, label=i, ax =ax[0,0], color=color_dict[c])\n",
    "                ax[0,0].set_title(f'{commit} \\nmole frac H2 = {j}')\n",
    "                ax[0,0].set_ylabel(\"Site Fraction\")\n",
    "        if p == 1:\n",
    "            for c,i in enumerate(conditions):\n",
    "                data_dict[commit][(data_dict[commit]['X_h2 initial'] == j) & (data_dict[commit]['T (C)'] == temp \\\n",
    "                    )].plot.scatter(x='CO2/(CO2+CO)', y=i, label=i, ax =ax[0,1], color=color_dict[c])\n",
    "                ax[0,1].set_title(f'{commit} \\nmole frac H2 = {j}')\n",
    "                ax[0,1].set_ylabel(\"Site Fraction\")\n",
    "        if p == 2:\n",
    "            for c,i in enumerate(conditions):\n",
    "                data_dict[commit][(data_dict[commit]['X_h2 initial'] == j) & (data_dict[commit]['T (C)'] == temp \\\n",
    "                    )].plot.scatter(x='CO2/(CO2+CO)', y=i, label=i, ax =ax[1,0], color=color_dict[c],)\n",
    "                ax[1,0].set_title(f'{commit} \\nmole frac H2 = {j}')\n",
    "                ax[1,0].set_ylabel(\"Site Fraction\")\n",
    "        if p == 3:\n",
    "            for c,i in enumerate(conditions):\n",
    "                data_dict[commit][(data_dict[commit]['X_h2 initial'] == j) & (data_dict[commit]['T (C)'] == temp \\\n",
    "                    )].plot.scatter(x='CO2/(CO2+CO)', y=i, label=i, ax =ax[1,1], color=color_dict[c])\n",
    "                ax[1,1].set_title(f'{commit} \\nmole frac H2 = {j}')\n",
    "                ax[1,1].set_ylabel(\"Site Fraction\")"
   ]
  },
  {
   "cell_type": "markdown",
   "metadata": {},
   "source": [
    "## Surface coverage comparison\n"
   ]
  },
  {
   "cell_type": "code",
   "execution_count": null,
   "metadata": {},
   "outputs": [],
   "source": [
    "Image('../images/Grabow_plots/Grabow_coverage.png',width = 700, height = 300)"
   ]
  },
  {
   "cell_type": "code",
   "execution_count": null,
   "metadata": {
    "scrolled": false
   },
   "outputs": [],
   "source": [
    "for commit in commit_list:  \n",
    "\n",
    "    # removing HCOO because we ar using the wrong species\n",
    "    #     conditions = ['X(1)', 'H*(10)', 'CH3O*(20)', 'HCOO*(17)', 'OH*(12)']\n",
    "    conditions = ['X(1)', 'H*(10)', 'HCOO*(17)', 'OH*(12)']\n",
    "    \n",
    "    temp = 500\n",
    "\n",
    "    # get keys for H2 (X_h2 initial)\n",
    "    H2_ratio = data_dict[commit_list[0]]['X_h2 initial'].unique()\n",
    "\n",
    "    fig, ax = plt.subplots(2,2,figsize=(15,13))\n",
    "\n",
    "    color_dict = { 0:\"b\", 1:\"g\", 2:\"r\", 3:\"y\", 4: \"k\"}\n",
    "    for p,j in enumerate(H2_ratio):\n",
    "        if p == 0:\n",
    "            for c,i in enumerate(conditions):\n",
    "                data_dict[commit][(data_dict[commit]['X_h2 initial'] == j) & (data_dict[commit]['T (C)'] == temp \\\n",
    "                    )].plot.scatter(x='CO2/(CO2+CO)', y=i, label=i, ax =ax[0,0], color=color_dict[c], ylim=[-0.1,1.0])\n",
    "                ax[0,0].set_title(f'{commit} \\nmole frac H2 = {j}')\n",
    "        if p == 1:\n",
    "            for c,i in enumerate(conditions):\n",
    "                data_dict[commit][(data_dict[commit]['X_h2 initial'] == j) & (data_dict[commit]['T (C)'] == temp \\\n",
    "                    )].plot.scatter(x='CO2/(CO2+CO)', y=i, label=i, ax =ax[0,1], color=color_dict[c], ylim=[-0.1,1.0])\n",
    "                ax[0,1].set_title(f'{commit} \\nmole frac H2 = {j}')\n",
    "\n",
    "        if p == 2:\n",
    "            for c,i in enumerate(conditions):\n",
    "                data_dict[commit][(data_dict[commit]['X_h2 initial'] == j) & (data_dict[commit]['T (C)'] == temp \\\n",
    "                    )].plot.scatter(x='CO2/(CO2+CO)', y=i, label=i, ax =ax[1,0], color=color_dict[c],ylim=[-0.1,1.0])\n",
    "                ax[1,0].set_title(f'{commit} \\nmole frac H2 = {j}')\n",
    "\n",
    "        if p == 3:\n",
    "            for c,i in enumerate(conditions):\n",
    "                data_dict[commit][(data_dict[commit]['X_h2 initial'] == j) & (data_dict[commit]['T (C)'] == temp \\\n",
    "                    )].plot.scatter(x='CO2/(CO2+CO)', y=i, label=i, ax =ax[1,1], color=color_dict[c], ylim=[-0.1,1.0])\n",
    "                ax[1,1].set_title(f'{commit} \\nmole frac H2 = {j}')"
   ]
  },
  {
   "cell_type": "markdown",
   "metadata": {},
   "source": [
    "## flux diagrams"
   ]
  },
  {
   "cell_type": "code",
   "execution_count": null,
   "metadata": {
    "scrolled": false
   },
   "outputs": [],
   "source": [
    "Image('../images/Grabow_plots/Grabow_rxn_path.png',width = 500, height = 300)"
   ]
  },
  {
   "cell_type": "code",
   "execution_count": null,
   "metadata": {},
   "outputs": [],
   "source": [
    "Image('../images/Reaction_mechanism_alternative.png',width = 700, height = 300)"
   ]
  },
  {
   "cell_type": "markdown",
   "metadata": {},
   "source": [
    "description of commits: \n"
   ]
  },
  {
   "cell_type": "code",
   "execution_count": null,
   "metadata": {},
   "outputs": [],
   "source": [
    "import matplotlib.pyplot as plt\n",
    "import matplotlib.image as mpimg\n",
    "from matplotlib import rcParams\n",
    "import math\n",
    "\n",
    "%matplotlib inline\n",
    "img = []\n",
    "flux_path = []\n",
    "\n",
    "# determine # of rows and columns for displays\n",
    "placeholder = [1,2,3,4,5]\n",
    "\n",
    "\n",
    "\n",
    "if one_commit == False:\n",
    "    rcParams['figure.figsize'] = 40 ,40\n",
    "    if len(commit_list)%2 == 0:\n",
    "        rows = int(len(commit_list)/2)\n",
    "    else: \n",
    "        rows = int(math.ceil(len(commit_list)/2))\n",
    "\n",
    "    fig, ax = plt.subplots(rows,2)\n",
    "    for i,commit in enumerate(commit_list):\n",
    "        temp = 600 \n",
    "        H2_frac = \"0_5\"\n",
    "        CO_CO2 = \"0_9\"\n",
    "        element = \"C\"\n",
    "        phase = \"surface1\" # \"surface1\" \"gas\"\n",
    "        time = \"end\" # \"end\" \"beginning\"\n",
    "        prefix = '../RMG_wDeut/'\n",
    "        flux_path.append(f'/IdealGasConstPressureReactor/{temp}/flux_diagrams/{H2_frac}/{CO_CO2}/reaction_path_{element}_{phase}_{time}-pretty.dot.png')\n",
    "\n",
    "\n",
    "        img.append(mpimg.imread(f'{prefix}{commit}{flux_path[i]}'))\n",
    "\n",
    "        #determine placement of picture\n",
    "        if i%2 == 0:\n",
    "            row = int(i/2)-1\n",
    "            col = 0\n",
    "        else:\n",
    "            row = int(math.ceil(i/2)) - 1\n",
    "            col = 1\n",
    "\n",
    "        ax[row,col].imshow(img[i])\n",
    "        ax[row,col].get_xaxis().set_visible(False) \n",
    "        ax[row,col].get_yaxis().set_visible(False) \n",
    "        ax[row,col].set_title(f'{commit}', fontsize = 30)\n",
    "        \n",
    "else:\n",
    "    rcParams['figure.figsize'] = 10 ,10\n",
    "    fig, ax = plt.subplots(1,1)\n",
    "    for i,commit in enumerate(commit_list):\n",
    "        temp = 500 \n",
    "        H2_frac = \"0_5\"\n",
    "        CO_CO2 = \"0_9\"\n",
    "        element = \"C\"\n",
    "        phase = \"surface1\" # \"surface1\" \"gas\"\n",
    "        time = \"end\" # \"end\" \"beginning\"\n",
    "        prefix = '../RMG_wDeut/'\n",
    "        flux_path.append(f'/IdealGasReactor/transient/{temp}/flux_diagrams/{H2_frac}/{CO_CO2}/reaction_path_{element}_{phase}_{time}-pretty.dot.png')\n",
    "\n",
    "\n",
    "        img.append(mpimg.imread(f'{prefix}{commit}{flux_path[i]}'))\n",
    "\n",
    "        ax.imshow(img[i])\n",
    "        ax.get_xaxis().set_visible(False) \n",
    "        ax.get_yaxis().set_visible(False) \n",
    "        ax.set_title(f'{commit}', fontsize = 30)\n",
    "\n"
   ]
  },
  {
   "cell_type": "code",
   "execution_count": null,
   "metadata": {},
   "outputs": [],
   "source": [
    "Image('../images/Grabow_plots/Grabow_rxn_path.png',width = 500, height = 300)"
   ]
  },
  {
   "cell_type": "markdown",
   "metadata": {},
   "source": [
    "### pathway analysis"
   ]
  },
  {
   "cell_type": "code",
   "execution_count": null,
   "metadata": {},
   "outputs": [],
   "source": [
    "Image('../images/Grabow_plots/Grabow_PES.png',width = 1000, height = 300)"
   ]
  },
  {
   "cell_type": "markdown",
   "metadata": {},
   "source": [
    "### sensitivity"
   ]
  },
  {
   "cell_type": "code",
   "execution_count": null,
   "metadata": {},
   "outputs": [],
   "source": [
    "# load data into big data dictionary\n",
    "sens_data_dict = {}\n",
    "temps = [] \n",
    "X_h2s = []\n",
    "X_coco2s = []\n",
    "\n",
    "for path in Path('../RMG_wDeut/' + commit).rglob('*.csv'):\n",
    "    path_str = str(path)\n",
    "    if os.stat(path_str).st_size != 0 and \"csp\" not in path_str:\n",
    "        data = pd.read_csv(path_str)\n",
    "        if len(data['T (C)']) >= 1: \n",
    "            temp = float(data['T (C)'].unique())\n",
    "            X_h2 = float(data['X_h2 initial'].unique())\n",
    "            X_coco2 = round(float(data['CO2/(CO2+CO)'].unique()),1)\n",
    "\n",
    "            if temp not in temps: temps.append(temp)\n",
    "            if X_h2 not in X_h2s: X_h2s.append(X_h2) \n",
    "\n",
    "            if X_coco2 not in X_coco2s: X_coco2s.append(X_coco2)\n",
    "\n",
    "            sens_data_dict.update({(temp,X_h2,X_coco2) : data})\n",
    "\n",
    "        else:\n",
    "            print(path_str)\n",
    "            print(\"empty data, sim crashed\")\n",
    "\n",
    "        \n"
   ]
  },
  {
   "cell_type": "code",
   "execution_count": null,
   "metadata": {},
   "outputs": [],
   "source": [
    "print(sens_data_dict.keys())"
   ]
  },
  {
   "cell_type": "code",
   "execution_count": null,
   "metadata": {},
   "outputs": [],
   "source": [
    "from matplotlib.pyplot import figure\n",
    "\n",
    "figure(figsize=(8, 20), dpi=80)\n",
    "\n",
    "def max_sensitivities(df, number=0):\n",
    "    # make a dictionary of highest sensitivity (tuple?)\n",
    "    columns = {}\n",
    "    for key, value in df.iteritems():\n",
    "        if \"sensitivity\" in key:\n",
    "            max_sens = value.max()\n",
    "            min_sens = value.min()\n",
    "            \n",
    "            if abs(max_sens) >= abs(min_sens):\n",
    "                extreme_sens = max_sens\n",
    "            elif abs(max_sens) < abs(min_sens):\n",
    "                extreme_sens = min_sens\n",
    "                \n",
    "                \n",
    "            columns.update({key:extreme_sens})\n",
    "#             print(key, max_sens)\n",
    "\n",
    "    if number !=0:\n",
    "        columns = dict(sorted(columns.items(), key=lambda kv: kv[1], reverse=True)[:number])\n",
    "        columns_rev = dict(sorted(columns.items(), key=lambda kv: kv[1], reverse=False)[:number])\n",
    "    else: \n",
    "        columns = dict(sorted(columns.items(), key=lambda kv: kv[1], reverse=True))\n",
    "        columns_rev = dict(sorted(columns.items(), key=lambda kv: kv[1], reverse=False))\n",
    "    return columns, columns_rev\n",
    "\n",
    "\n",
    "# plot the top sensitivities for a dataframe\n",
    "def plot_sensitivities(df, num = 5, align=\"center\", height=0.2, label = \"\"):\n",
    "    \n",
    "    imp_reactions_pos, imp_reactions_neg = max_sensitivities(df,num)\n",
    "    imp_reactions = {**imp_reactions_pos, **imp_reactions_neg}\n",
    "\n",
    "    imp_reactions_df = pd.Series(data = imp_reactions)\n",
    "    imp_reactions_df.to_csv(f'test_{label}.csv')\n",
    "    plt.barh(*zip(*imp_reactions.items()),height=height, log=True, align=align,alpha=0.8, label=label)\n",
    "#     plt.show()\n",
    "\n",
    "    plt.legend(loc='best')\n",
    "#     imp_reactions_df.plot(kind='barh')\n",
    "\n",
    "columns, columns_rev = max_sensitivities(sens_data_dict[400.0, 0.5, 0.9],5)\n",
    "\n",
    "plot_sensitivities(sens_data_dict[400.0, 0.5, 0.5],10, \"center\", label=\"400K\")\n",
    "plot_sensitivities(sens_data_dict[500.0, 0.5, 0.5],10, \"edge\",label=\"500K\")\n",
    "plot_sensitivities(sens_data_dict[600.0, 0.5, 0.5],10, \"edge\", height=-0.2, label=\"600K\")"
   ]
  },
  {
   "cell_type": "code",
   "execution_count": null,
   "metadata": {},
   "outputs": [],
   "source": [
    "y = list(sens_data_dict.keys())\n",
    "y[1][0]"
   ]
  },
  {
   "cell_type": "code",
   "execution_count": null,
   "metadata": {
    "scrolled": false
   },
   "outputs": [],
   "source": [
    "def max_sensitivities(df, number=0):\n",
    "    # make a dictionary of highest sensitivity (tuple?)\n",
    "    columns = {}\n",
    "    for key, value in df.iteritems():\n",
    "        if \"thermo sensitivity\" in key:\n",
    "            max_sens = value.max()\n",
    "            min_sens = value.min()\n",
    "            \n",
    "            if abs(max_sens) >= abs(min_sens):\n",
    "                extreme_sens = max_sens\n",
    "            elif abs(max_sens) < abs(min_sens):\n",
    "                extreme_sens = min_sens\n",
    "                \n",
    "                \n",
    "            columns.update({key:extreme_sens})\n",
    "\n",
    "    if number !=0:\n",
    "        columns = dict(sorted(columns.items(), key=lambda kv: kv[1], reverse=True)[:number])\n",
    "        columns_rev = dict(sorted(columns.items(), key=lambda kv: kv[1], reverse=False)[:number])\n",
    "    else: \n",
    "        columns = dict(sorted(columns.items(), key=lambda kv: kv[1], reverse=True))\n",
    "        columns_rev = dict(sorted(columns.items(), key=lambda kv: kv[1], reverse=False))\n",
    "    return columns, columns_rev\n",
    "\n",
    "\n",
    "# plot the top sensitivities for a dataframe\n",
    "def plot_sensitivities(df, num = 5):\n",
    "    \n",
    "    imp_reactions_pos, imp_reactions_neg  = max_sensitivities(df,num)\n",
    "    imp_reactions = {**imp_reactions_pos, **imp_reactions_neg}\n",
    "    \n",
    "    plt.barh(*zip(*imp_reactions.items()))\n",
    "\n",
    "\n",
    "\n",
    "columns, columns_rev = max_sensitivities(sens_data_dict[400.0, 0.5, 0.9],5)\n",
    "\n",
    "plot_sensitivities(sens_data_dict[400.0, 0.5, 0.9],10)"
   ]
  },
  {
   "cell_type": "code",
   "execution_count": null,
   "metadata": {},
   "outputs": [],
   "source": []
  }
 ],
 "metadata": {
  "kernelspec": {
   "display_name": "rmg_env",
   "language": "python",
   "name": "rmg_env"
  },
  "language_info": {
   "codemirror_mode": {
    "name": "ipython",
    "version": 3
   },
   "file_extension": ".py",
   "mimetype": "text/x-python",
   "name": "python",
   "nbconvert_exporter": "python",
   "pygments_lexer": "ipython3",
   "version": "3.7.7"
  }
 },
 "nbformat": 4,
 "nbformat_minor": 4
}
