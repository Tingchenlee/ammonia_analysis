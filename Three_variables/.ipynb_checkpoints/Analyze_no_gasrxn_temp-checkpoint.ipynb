{
 "cells": [
  {
   "cell_type": "code",
   "execution_count": 1,
   "metadata": {},
   "outputs": [],
   "source": [
    "import os\n",
    "import glob\n",
    "import itertools\n",
    "from random import randint\n",
    "import pandas as pd\n",
    "import numpy as np\n",
    "import csv\n",
    "import matplotlib.pyplot as plt\n",
    "from pathlib import Path\n",
    "import time\n",
    "\n",
    "import matplotlib.cm as cm\n",
    "from IPython.display import Image\n",
    "import git\n",
    "\n",
    "from rmgpy.molecule import Molecule\n",
    "from rmgpy.data.base import Database"
   ]
  },
  {
   "cell_type": "code",
   "execution_count": 2,
   "metadata": {},
   "outputs": [],
   "source": [
    "#Input file\n",
    "rmg_model_path = '../../ammonia/'\n",
    "analysis_path = '../Three_variables/results/no_gasrxn_results_temp'"
   ]
  },
  {
   "cell_type": "code",
   "execution_count": 3,
   "metadata": {},
   "outputs": [
    {
     "data": {
      "text/plain": [
       "'2021_6_18_1037_aa0501_changed_X(1)_to_X(N)_and_X(H)_in_the_cti_files'"
      ]
     },
     "execution_count": 3,
     "metadata": {},
     "output_type": "execute_result"
    }
   ],
   "source": [
    "#Git-python: checkout master branch\n",
    "import git\n",
    "repo = git.Repo(rmg_model_path)\n",
    "date = time.localtime(repo.head.commit.committed_date)\n",
    "git_date = f\"{date[0]}_{date[1]}_{date[2]}_{date[3]}{date[4]}\"\n",
    "git_sha = str(repo.head.commit)[0:6]\n",
    "git_msg = str(repo.head.commit.message)[0:50].replace(\" \", \"_\").replace(\"'\", \"_\").replace(\"\\n\", \"\")\n",
    "\n",
    "current_commit = f\"{git_date}_{git_sha}_{git_msg}\"\n",
    "\n",
    "current_commit"
   ]
  },
  {
   "cell_type": "code",
   "execution_count": 36,
   "metadata": {},
   "outputs": [],
   "source": [
    "# #checkout 1 commit back\n",
    "# repo.git.checkout('HEAD^1')\n",
    "# sha = str(repo.head.commit)\n",
    "# msg = str(repo.head.commit.message)\n",
    "# print(sha,': ', msg)\n",
    "\n",
    "# #checkout 2 commit back\n",
    "# repo = git.Repo('/work/westgroup/lee.ting/cantera/ammonia/')\n",
    "# repo.git.checkout('HEAD^1')\n",
    "# sha = repo.head.commit\n",
    "# msg = repo.head.commit.message\n",
    "# print(sha,': ', msg)"
   ]
  },
  {
   "cell_type": "code",
   "execution_count": 4,
   "metadata": {},
   "outputs": [
    {
     "name": "stdout",
     "output_type": "stream",
     "text": [
      "/2021_6_18_1037_aa0501_changed_X(1)_to_X(N)_and_X(H)_in_the_cti_files/IdealGasReactor/energy_off/sensitivity_off/results/Spinning_basket_area_3.3e-05_energy_off_temp_523_O2_0_NH3_0.csv\n",
      "/2021_6_18_1037_aa0501_changed_X(1)_to_X(N)_and_X(H)_in_the_cti_files/IdealGasReactor/energy_off/sensitivity_off/results/Spinning_basket_area_3.3e-05_energy_off_temp_548_O2_0_NH3_0.csv\n",
      "/2021_6_18_1037_aa0501_changed_X(1)_to_X(N)_and_X(H)_in_the_cti_files/IdealGasReactor/energy_off/sensitivity_off/results/Spinning_basket_area_3.3e-05_energy_off_temp_573_O2_0_NH3_0.csv\n",
      "/2021_6_18_1037_aa0501_changed_X(1)_to_X(N)_and_X(H)_in_the_cti_files/IdealGasReactor/energy_off/sensitivity_off/results/Spinning_basket_area_3.3e-05_energy_off_temp_598_O2_0_NH3_0.csv\n",
      "/2021_6_18_1037_aa0501_changed_X(1)_to_X(N)_and_X(H)_in_the_cti_files/IdealGasReactor/energy_off/sensitivity_off/results/Spinning_basket_area_3.3e-05_energy_off_temp_623_O2_0_NH3_0.csv\n",
      "/2021_6_18_1037_aa0501_changed_X(1)_to_X(N)_and_X(H)_in_the_cti_files/IdealGasReactor/energy_off/sensitivity_off/results/Spinning_basket_area_3.3e-05_energy_off_temp_648_O2_0_NH3_0.csv\n",
      "/2021_6_18_1037_aa0501_changed_X(1)_to_X(N)_and_X(H)_in_the_cti_files/IdealGasReactor/energy_off/sensitivity_off/results/Spinning_basket_area_3.3e-05_energy_off_temp_673_O2_0_NH3_0.csv\n",
      "/2021_6_18_1037_aa0501_changed_X(1)_to_X(N)_and_X(H)_in_the_cti_files/IdealGasReactor/energy_off/sensitivity_off/results/Spinning_basket_area_3.3e-05_energy_off_temp_698_O2_0_NH3_0.csv\n",
      "/2021_6_18_1037_aa0501_changed_X(1)_to_X(N)_and_X(H)_in_the_cti_files/IdealGasReactor/energy_off/sensitivity_off/results/Spinning_basket_area_3.3e-05_energy_off_temp_750_O2_0_NH3_0.csv\n",
      "/2021_6_18_1127_42dcc7_treat_X_as_XN_and_XH/IdealGasReactor/energy_off/sensitivity_off/results/Spinning_basket_area_3.3e-05_energy_off_temp_523_O2_0_NH3_0.csv\n",
      "/2021_6_18_1127_42dcc7_treat_X_as_XN_and_XH/IdealGasReactor/energy_off/sensitivity_off/results/Spinning_basket_area_3.3e-05_energy_off_temp_523_O2_0_NH3_0_066.csv\n",
      "/2021_6_18_1127_42dcc7_treat_X_as_XN_and_XH/IdealGasReactor/energy_off/sensitivity_off/results/Spinning_basket_area_3.3e-05_energy_off_temp_548_O2_0_NH3_0.csv\n",
      "/2021_6_18_1127_42dcc7_treat_X_as_XN_and_XH/IdealGasReactor/energy_off/sensitivity_off/results/Spinning_basket_area_3.3e-05_energy_off_temp_548_O2_0_NH3_0_066.csv\n",
      "/2021_6_18_1127_42dcc7_treat_X_as_XN_and_XH/IdealGasReactor/energy_off/sensitivity_off/results/Spinning_basket_area_3.3e-05_energy_off_temp_573_O2_0_NH3_0.csv\n",
      "/2021_6_18_1127_42dcc7_treat_X_as_XN_and_XH/IdealGasReactor/energy_off/sensitivity_off/results/Spinning_basket_area_3.3e-05_energy_off_temp_573_O2_0_NH3_0_066.csv\n",
      "/2021_6_18_1127_42dcc7_treat_X_as_XN_and_XH/IdealGasReactor/energy_off/sensitivity_off/results/Spinning_basket_area_3.3e-05_energy_off_temp_598_O2_0_NH3_0.csv\n",
      "/2021_6_18_1127_42dcc7_treat_X_as_XN_and_XH/IdealGasReactor/energy_off/sensitivity_off/results/Spinning_basket_area_3.3e-05_energy_off_temp_598_O2_0_NH3_0_066.csv\n",
      "/2021_6_18_1127_42dcc7_treat_X_as_XN_and_XH/IdealGasReactor/energy_off/sensitivity_off/results/Spinning_basket_area_3.3e-05_energy_off_temp_623_O2_0_NH3_0.csv\n",
      "/2021_6_18_1127_42dcc7_treat_X_as_XN_and_XH/IdealGasReactor/energy_off/sensitivity_off/results/Spinning_basket_area_3.3e-05_energy_off_temp_623_O2_0_NH3_0_066.csv\n",
      "/2021_6_18_1127_42dcc7_treat_X_as_XN_and_XH/IdealGasReactor/energy_off/sensitivity_off/results/Spinning_basket_area_3.3e-05_energy_off_temp_648_O2_0_NH3_0.csv\n",
      "/2021_6_18_1127_42dcc7_treat_X_as_XN_and_XH/IdealGasReactor/energy_off/sensitivity_off/results/Spinning_basket_area_3.3e-05_energy_off_temp_648_O2_0_NH3_0_066.csv\n",
      "/2021_6_18_1127_42dcc7_treat_X_as_XN_and_XH/IdealGasReactor/energy_off/sensitivity_off/results/Spinning_basket_area_3.3e-05_energy_off_temp_673_O2_0_NH3_0.csv\n",
      "/2021_6_18_1127_42dcc7_treat_X_as_XN_and_XH/IdealGasReactor/energy_off/sensitivity_off/results/Spinning_basket_area_3.3e-05_energy_off_temp_673_O2_0_NH3_0_066.csv\n",
      "/2021_6_18_1127_42dcc7_treat_X_as_XN_and_XH/IdealGasReactor/energy_off/sensitivity_off/results/Spinning_basket_area_3.3e-05_energy_off_temp_698_O2_0_NH3_0.csv\n",
      "/2021_6_18_1127_42dcc7_treat_X_as_XN_and_XH/IdealGasReactor/energy_off/sensitivity_off/results/Spinning_basket_area_3.3e-05_energy_off_temp_698_O2_0_NH3_0_066.csv\n",
      "/2021_6_18_1127_42dcc7_treat_X_as_XN_and_XH/IdealGasReactor/energy_off/sensitivity_off/results/Spinning_basket_area_3.3e-05_energy_off_temp_750_O2_0_NH3_0.csv\n",
      "/2021_6_18_1127_42dcc7_treat_X_as_XN_and_XH/IdealGasReactor/energy_off/sensitivity_off/results/Spinning_basket_area_3.3e-05_energy_off_temp_750_O2_0_NH3_0_066.csv\n",
      "['']\n"
     ]
    }
   ],
   "source": [
    "commit_list = []\n",
    "\n",
    "# read in each filename into dictionary. get a list of the commit folders in this repo\n",
    "for path in Path(analysis_path).rglob('*.csv'):\n",
    "    path_str = str(path)\n",
    "    start_index = path_str.find(analysis_path)\n",
    "    \n",
    "    if start_index != -1:\n",
    "        commit = path_str[(start_index+len(analysis_path)):]\n",
    "        print(commit)\n",
    "        if \"\\n\" in commit:\n",
    "            end_char = commit.index(\"\\n\")\n",
    "        else: \n",
    "            end_char = commit.index(\"/\")\n",
    "        \n",
    "        commit = commit[:end_char]\n",
    "        if commit not in commit_list:\n",
    "            commit_list.append(commit)\n",
    "        \n",
    "print(commit_list)   "
   ]
  },
  {
   "cell_type": "code",
   "execution_count": 10,
   "metadata": {
    "scrolled": true
   },
   "outputs": [],
   "source": [
    "data_dict = {}\n",
    "\n",
    "# Read last line from each CSV file to get the outlet concentrations from the PFR\n",
    "# if \"one_commit\" is true, only run the master commit \n",
    "one_commit = False\n",
    "if one_commit == True:\n",
    "    commit_list = [current_commit]\n",
    "    \n",
    "for commit in commit_list:\n",
    "    first_file = True\n",
    "    for path in Path(f\"../Three_variables/results/no_gasrxn_results_temp/{current_commit}\").rglob('*.csv'):\n",
    "        path_str = str(path)\n",
    "        if os.stat(path_str).st_size >= 1e3:\n",
    "            if first_file == True: \n",
    "                data = pd.read_csv(path_str)\n",
    "                aggdata = data.tail(1)\n",
    "                first_file = False\n",
    "            else: \n",
    "                data = pd.read_csv(path_str)\n",
    "                aggdata = aggdata.append(data.tail(1))\n",
    "            data_dict.update({commit:aggdata})\n",
    "        else:\n",
    "            print(path_str)"
   ]
  },
  {
   "cell_type": "markdown",
   "metadata": {},
   "source": [
    "## Reproduce plots from Rebrov\n",
    "\n",
    "Rebrov, E. V., De Croon, M. H. J. M., & Schouten, J. C. (2002). Development of the kinetic model of platinum catalyzed ammonia oxidation in a microreactor. Chemical Engineering Journal, 90(1–2), 61–76. https://doi.org/10.1016/S1385-8947(02)00068-2\n",
    "\n",
    "\n",
    "for reference: \n",
    "\n",
    "### $conversion(\\%) = \\frac{moles\\_fed - moles\\_out}{moles\\_fed} $\n",
    "\n",
    "### $selectivity(\\%, N_2) = \\frac{(2*r_{L6}+r_{L13})100}{r_{L5}} $\n",
    "\n",
    "### $selectivity(\\%, N_{2}O) = \\frac{(2*r_{L7}-r_{L13})100}{r_{L5}} $"
   ]
  },
  {
   "cell_type": "markdown",
   "metadata": {},
   "source": [
    "# For our selectivity definitions\n",
    "Two types of selectivity. Overall, and instantaneous. \n",
    "\n",
    "For overall selectivity, it depends on the total amounts exiting the packed bed. Probably what is measured experimentally from the PBR experiment (by measuring concentrations leaving the bed).\n",
    "\n",
    "$$ selectivity(N2) = \\frac{2 * moles_{N2}}{molesfed_{NH3} - moles_{NH3}} * 100\\%$$\n",
    "The 2 is because we are preserving (and counting) atoms of Nitrogen. Selectivity is \"What percentage of N atoms (from consuming ammonia) ended up as N2?\n",
    "\"\n",
    "\n",
    "$$ selectivity(N2O) = \\frac{2 * moles_{N2O}}{molesfed_{NH3} - moles_{NH3}} * 100\\%$$\n",
    "$$ selectivity(NO) = \\frac{moles_{NO}}{molesfed_{NH3} - moles_{NH3}} * 100\\%$$\n",
    "\n",
    "\n",
    "For instantaneous selectivity, it changes at different points in the packed bed. \n",
    "If we want the instantaneous selectivity evaluated at the exit of the bed, evaluate these expressions at the end of the bed (the last row):\n",
    "\n",
    "$$ selectivity(N2)  = \\frac{ 2 * net rate of production of N2}{-1 * net rate of production of NH3}$$\n",
    "$$ selectivity(N2O)  = \\frac{ 2 * net rate of production of N2O}{-1 * net rate of production of NH3}$$\n",
    "$$ selectivity(NO)  = \\frac{  net rate of production of NO}{-1 * net rate of production of NH3}$$\n"
   ]
  },
  {
   "cell_type": "code",
   "execution_count": 52,
   "metadata": {
    "scrolled": true
   },
   "outputs": [
    {
     "data": {
      "image/png": "[encoded data removed]",
      "text/plain": [
       "<IPython.core.display.Image object>"
      ]
     },
     "execution_count": 52,
     "metadata": {},
     "output_type": "execute_result"
    }
   ],
   "source": [
    "Image('Images/Rebrov_table2.png')"
   ]
  },
  {
   "cell_type": "markdown",
   "metadata": {},
   "source": [
    "### Figure 3\n",
    "#### create partial pressure, selectivity, and concentration columns in the dataframe"
   ]
  },
  {
   "cell_type": "code",
   "execution_count": 11,
   "metadata": {},
   "outputs": [],
   "source": [
    "for commit in commit_list:\n",
    "    data_dict[commit]['NH3(6) conversion (%)']= 100*(data_dict[commit]['X_nh3 initial'] - data_dict[commit]['NH3(6)'])/data_dict[commit]['X_nh3 initial']\n",
    "    \n",
    "    S_N2 = ((-2)*(data_dict[commit]['N2(4) ROP [kmol/m^3 s]']+data_dict[commit]['N2(4) surface ROP [kmol/m^2 s]'])/\n",
    "            (data_dict[commit]['NH3(6) ROP [kmol/m^3 s]']+ data_dict[commit]['NH3(6) surface ROP [kmol/m^2 s]']))\n",
    "\n",
    "    S_NO = ((-1)*(data_dict[commit]['NO(5) ROP [kmol/m^3 s]']+data_dict[commit]['NO(5) surface ROP [kmol/m^2 s]'])/\n",
    "            (data_dict[commit]['NH3(6) ROP [kmol/m^3 s]']+ data_dict[commit]['NH3(6) surface ROP [kmol/m^2 s]']))\n",
    "\n",
    "    S_N2O = ((-2)*(data_dict[commit]['N2O(7) ROP [kmol/m^3 s]']+data_dict[commit]['N2O(7) surface ROP [kmol/m^2 s]'])/\n",
    "            (data_dict[commit]['NH3(6) ROP [kmol/m^3 s]']+ data_dict[commit]['NH3(6) surface ROP [kmol/m^2 s]']))\n",
    "    \n",
    "    data_dict[commit]['N2(4) Selectivity (%)'] = 100*S_N2 / (S_N2 + S_NO + S_N2O)\n",
    "    data_dict[commit]['NO(5) Selectivity (%)'] = 100*S_NO / (S_N2 + S_NO + S_N2O)\n",
    "    data_dict[commit]['N2O(7) Selectivity (%)'] = 100*S_N2O / (S_N2 + S_NO + S_N2O)\n",
    "\n",
    "    data_dict[commit]['OX Coverage']=data_dict[commit]['OX']/(data_dict[commit]['OX'] + data_dict[commit]['OHX']+ data_dict[commit]['X(H)'])\n",
    "    data_dict[commit]['OHX Coverage']=data_dict[commit]['OHX']/(data_dict[commit]['OX'] + data_dict[commit]['OHX']+ data_dict[commit]['X(H)'])\n",
    "    data_dict[commit]['X(H) Coverage']=data_dict[commit]['X(H)']/(data_dict[commit]['OX'] + data_dict[commit]['OHX']+ data_dict[commit]['X(H)'])\n",
    "    \n",
    "    data_dict[commit]['NOX Coverage']=data_dict[commit]['NOX']/(data_dict[commit]['NOX'] + data_dict[commit]['NX']+ data_dict[commit]['NH3X']+ data_dict[commit]['X(N)'])\n",
    "    data_dict[commit]['NX Coverage']=data_dict[commit]['NX']/(data_dict[commit]['NOX'] + data_dict[commit]['NX']+ data_dict[commit]['NH3X']+ data_dict[commit]['X(N)'])\n",
    "    data_dict[commit]['NH3X Coverage']=data_dict[commit]['NH3X']/(data_dict[commit]['NOX'] + data_dict[commit]['NX']+ data_dict[commit]['NH3X']+ data_dict[commit]['X(N)'])\n",
    "    data_dict[commit]['X(N) Coverage']=data_dict[commit]['X(N)']/(data_dict[commit]['NOX'] + data_dict[commit]['NX']+ data_dict[commit]['NH3X']+ data_dict[commit]['X(N)'])\n"
   ]
  },
  {
   "cell_type": "code",
   "execution_count": 12,
   "metadata": {
    "scrolled": false
   },
   "outputs": [
    {
     "data": {
      "text/html": [
       "<div>\n",
       "<style scoped>\n",
       "    .dataframe tbody tr th:only-of-type {\n",
       "        vertical-align: middle;\n",
       "    }\n",
       "\n",
       "    .dataframe tbody tr th {\n",
       "        vertical-align: top;\n",
       "    }\n",
       "\n",
       "    .dataframe thead th {\n",
       "        text-align: right;\n",
       "    }\n",
       "</style>\n",
       "<table border=\"1\" class=\"dataframe\">\n",
       "  <thead>\n",
       "    <tr style=\"text-align: right;\">\n",
       "      <th></th>\n",
       "      <th>Distance (mm)</th>\n",
       "      <th>T (K)</th>\n",
       "      <th>P (Pa)</th>\n",
       "      <th>V (M^3/s)</th>\n",
       "      <th>X_nh3 initial</th>\n",
       "      <th>X_o2 initial</th>\n",
       "      <th>X_he initial</th>\n",
       "      <th>(NH3/O2)</th>\n",
       "      <th>T (K) final</th>\n",
       "      <th>Rtol</th>\n",
       "      <th>...</th>\n",
       "      <th>N2(4) Selectivity (%)</th>\n",
       "      <th>NO(5) Selectivity (%)</th>\n",
       "      <th>N2O(7) Selectivity (%)</th>\n",
       "      <th>OX Coverage</th>\n",
       "      <th>OHX Coverage</th>\n",
       "      <th>X(H) Coverage</th>\n",
       "      <th>NOX Coverage</th>\n",
       "      <th>NX Coverage</th>\n",
       "      <th>NH3X Coverage</th>\n",
       "      <th>X(N) Coverage</th>\n",
       "    </tr>\n",
       "  </thead>\n",
       "  <tbody>\n",
       "    <tr>\n",
       "      <th>2000</th>\n",
       "      <td>9.0</td>\n",
       "      <td>523</td>\n",
       "      <td>101325.0</td>\n",
       "      <td>0.000058</td>\n",
       "      <td>0.066</td>\n",
       "      <td>0.88</td>\n",
       "      <td>0.054</td>\n",
       "      <td>0.075</td>\n",
       "      <td>523.0</td>\n",
       "      <td>1.000000e-10</td>\n",
       "      <td>...</td>\n",
       "      <td>100.000000</td>\n",
       "      <td>-1.858287e-11</td>\n",
       "      <td>-2.888123e-07</td>\n",
       "      <td>0.999854</td>\n",
       "      <td>1.563659e-09</td>\n",
       "      <td>0.000146</td>\n",
       "      <td>6.597248e-02</td>\n",
       "      <td>0.017378</td>\n",
       "      <td>0.035871</td>\n",
       "      <td>0.880779</td>\n",
       "    </tr>\n",
       "    <tr>\n",
       "      <th>2000</th>\n",
       "      <td>9.0</td>\n",
       "      <td>598</td>\n",
       "      <td>101325.0</td>\n",
       "      <td>0.000058</td>\n",
       "      <td>0.066</td>\n",
       "      <td>0.88</td>\n",
       "      <td>0.054</td>\n",
       "      <td>0.075</td>\n",
       "      <td>598.0</td>\n",
       "      <td>1.000000e-10</td>\n",
       "      <td>...</td>\n",
       "      <td>100.000001</td>\n",
       "      <td>2.517950e-11</td>\n",
       "      <td>-5.290808e-07</td>\n",
       "      <td>0.997860</td>\n",
       "      <td>4.099778e-08</td>\n",
       "      <td>0.002140</td>\n",
       "      <td>6.894154e-04</td>\n",
       "      <td>0.003253</td>\n",
       "      <td>0.006146</td>\n",
       "      <td>0.989912</td>\n",
       "    </tr>\n",
       "    <tr>\n",
       "      <th>2000</th>\n",
       "      <td>9.0</td>\n",
       "      <td>648</td>\n",
       "      <td>101325.0</td>\n",
       "      <td>0.000058</td>\n",
       "      <td>0.066</td>\n",
       "      <td>0.88</td>\n",
       "      <td>0.054</td>\n",
       "      <td>0.075</td>\n",
       "      <td>648.0</td>\n",
       "      <td>1.000000e-10</td>\n",
       "      <td>...</td>\n",
       "      <td>100.000000</td>\n",
       "      <td>3.864503e-11</td>\n",
       "      <td>8.431202e-10</td>\n",
       "      <td>0.989497</td>\n",
       "      <td>2.765863e-07</td>\n",
       "      <td>0.010503</td>\n",
       "      <td>3.616686e-05</td>\n",
       "      <td>0.001084</td>\n",
       "      <td>0.002276</td>\n",
       "      <td>0.996603</td>\n",
       "    </tr>\n",
       "    <tr>\n",
       "      <th>2000</th>\n",
       "      <td>9.0</td>\n",
       "      <td>750</td>\n",
       "      <td>101325.0</td>\n",
       "      <td>0.000058</td>\n",
       "      <td>0.066</td>\n",
       "      <td>0.88</td>\n",
       "      <td>0.054</td>\n",
       "      <td>0.075</td>\n",
       "      <td>750.0</td>\n",
       "      <td>1.000000e-10</td>\n",
       "      <td>...</td>\n",
       "      <td>100.000000</td>\n",
       "      <td>4.197504e-12</td>\n",
       "      <td>-1.390184e-11</td>\n",
       "      <td>0.755818</td>\n",
       "      <td>1.086391e-05</td>\n",
       "      <td>0.244171</td>\n",
       "      <td>2.726458e-08</td>\n",
       "      <td>0.000082</td>\n",
       "      <td>0.000460</td>\n",
       "      <td>0.999458</td>\n",
       "    </tr>\n",
       "  </tbody>\n",
       "</table>\n",
       "<p>4 rows × 84 columns</p>\n",
       "</div>"
      ],
      "text/plain": [
       "      Distance (mm) T (K)    P (Pa)  V (M^3/s)  X_nh3 initial  X_o2 initial  \\\n",
       "2000            9.0   523  101325.0   0.000058          0.066          0.88   \n",
       "2000            9.0   598  101325.0   0.000058          0.066          0.88   \n",
       "2000            9.0   648  101325.0   0.000058          0.066          0.88   \n",
       "2000            9.0   750  101325.0   0.000058          0.066          0.88   \n",
       "\n",
       "      X_he initial  (NH3/O2)  T (K) final          Rtol  ...  \\\n",
       "2000         0.054     0.075        523.0  1.000000e-10  ...   \n",
       "2000         0.054     0.075        598.0  1.000000e-10  ...   \n",
       "2000         0.054     0.075        648.0  1.000000e-10  ...   \n",
       "2000         0.054     0.075        750.0  1.000000e-10  ...   \n",
       "\n",
       "      N2(4) Selectivity (%) NO(5) Selectivity (%) N2O(7) Selectivity (%)  \\\n",
       "2000             100.000000         -1.858287e-11          -2.888123e-07   \n",
       "2000             100.000001          2.517950e-11          -5.290808e-07   \n",
       "2000             100.000000          3.864503e-11           8.431202e-10   \n",
       "2000             100.000000          4.197504e-12          -1.390184e-11   \n",
       "\n",
       "      OX Coverage  OHX Coverage  X(H) Coverage  NOX Coverage  NX Coverage  \\\n",
       "2000     0.999854  1.563659e-09       0.000146  6.597248e-02     0.017378   \n",
       "2000     0.997860  4.099778e-08       0.002140  6.894154e-04     0.003253   \n",
       "2000     0.989497  2.765863e-07       0.010503  3.616686e-05     0.001084   \n",
       "2000     0.755818  1.086391e-05       0.244171  2.726458e-08     0.000082   \n",
       "\n",
       "      NH3X Coverage  X(N) Coverage  \n",
       "2000       0.035871       0.880779  \n",
       "2000       0.006146       0.989912  \n",
       "2000       0.002276       0.996603  \n",
       "2000       0.000460       0.999458  \n",
       "\n",
       "[4 rows x 84 columns]"
      ]
     },
     "execution_count": 12,
     "metadata": {},
     "output_type": "execute_result"
    }
   ],
   "source": [
    "data_dict[commit].to_csv(\"rebrov_no_gasrxn_data_temp.csv\")\n",
    "data_dict[commit]"
   ]
  },
  {
   "cell_type": "code",
   "execution_count": 13,
   "metadata": {},
   "outputs": [
    {
     "data": {
      "text/plain": [
       "<AxesSubplot:xlabel='T (K)', ylabel='NH3(6) conversion (%)'>"
      ]
     },
     "execution_count": 13,
     "metadata": {},
     "output_type": "execute_result"
    },
    {
     "data": {
      "image/png": "[encoded data removed]",
      "text/plain": [
       "<Figure size 432x288 with 1 Axes>"
      ]
     },
     "metadata": {
      "needs_background": "light"
     },
     "output_type": "display_data"
    }
   ],
   "source": [
    "data_dict[commit].plot.scatter(x='T (K)',y='NH3(6) conversion (%)',label='NH3(6) conversion (%)',color=\"r\")\n"
   ]
  },
  {
   "cell_type": "code",
   "execution_count": 42,
   "metadata": {},
   "outputs": [
    {
     "data": {
      "image/png": "[encoded data removed]",
      "text/plain": [
       "<Figure size 432x288 with 1 Axes>"
      ]
     },
     "metadata": {
      "needs_background": "light"
     },
     "output_type": "display_data"
    }
   ],
   "source": [
    "ax1 = data_dict[commit].plot.scatter(x='X_nh3 initial',y='N2(4) Selectivity (%)',\n",
    "                                     label='N2',color=\"orange\")\n",
    "ax2 = data_dict[commit].plot.scatter(x='X_nh3 initial',y='N2O(7) Selectivity (%)',\n",
    "                                     label='N2O',color='g', ax=ax1)\n",
    "ax3 = data_dict[commit].plot.scatter(x='X_nh3 initial',y='NO(5) Selectivity (%)',\n",
    "                                     label='NO',color='blue', ax=ax1)\n",
    "ax1.set_xlabel(\"NH3(6) partial pressure (atm)\")\n",
    "ax1.set_ylabel(\"Selectivity (%)\")\n",
    "plt.show()"
   ]
  },
  {
   "cell_type": "code",
   "execution_count": 26,
   "metadata": {
    "scrolled": false
   },
   "outputs": [],
   "source": [
    "# ax1 = data_dict[commit].plot(x='X_nh3 initial',y='N2(4) Selectivity (%)',\n",
    "#                                      label='N2',color=\"orange\")\n",
    "# ax2 = data_dict[commit].plot(x='X_nh3 initial',y='N2O(7) Selectivity (%)',\n",
    "#                                      label='N2O',color='g', ax=ax1)\n",
    "# ax3 = data_dict[commit].plot(x='X_nh3 initial',y='NO(5) Selectivity (%)',\n",
    "#                                      label='NO',color='blue', ax=ax1)\n",
    "# ax1.set_xlabel(\"NH3(6) partial pressure (atm)\")\n",
    "# ax1.set_ylabel(\"Selectivity (%)\")\n",
    "# plt.show()"
   ]
  },
  {
   "cell_type": "code",
   "execution_count": 46,
   "metadata": {},
   "outputs": [
    {
     "data": {
      "image/png": "[encoded data removed]",
      "text/plain": [
       "<Figure size 432x288 with 1 Axes>"
      ]
     },
     "metadata": {
      "needs_background": "light"
     },
     "output_type": "display_data"
    }
   ],
   "source": [
    "ax1 = data_dict[commit].plot.scatter(x='X_nh3 initial',y='OX Coverage',\n",
    "                                     label='OX',color=\"orange\")\n",
    "ax2 = data_dict[commit].plot.scatter(x='X_nh3 initial',y='OHX Coverage',\n",
    "                                     label='OHX',color='g', ax=ax1)\n",
    "ax3 = data_dict[commit].plot.scatter(x='X_nh3 initial',y='X(H) Coverage',\n",
    "                                     label='X(H)',color='blue', ax=ax1)\n",
    "ax1.set_xlabel(\"NH3(6) partial pressure (atm)\")\n",
    "ax1.set_ylabel(\"Coverage\")\n",
    "plt.show()"
   ]
  },
  {
   "cell_type": "code",
   "execution_count": 45,
   "metadata": {},
   "outputs": [
    {
     "data": {
      "image/png": "[encoded data removed]",
      "text/plain": [
       "<Figure size 432x288 with 1 Axes>"
      ]
     },
     "metadata": {
      "needs_background": "light"
     },
     "output_type": "display_data"
    }
   ],
   "source": [
    "ax1 = data_dict[commit].plot.scatter(x='X_nh3 initial',y='NOX Coverage',\n",
    "                                     label='NO_X',color=\"r\")\n",
    "ax2 = data_dict[commit].plot.scatter(x='X_nh3 initial',y='NX Coverage',\n",
    "                                     label='N_X',color='orange', ax=ax1)\n",
    "ax3 = data_dict[commit].plot.scatter(x='X_nh3 initial',y='NH3X Coverage',\n",
    "                                     label='NH3_X',color='b', ax=ax1)\n",
    "ax4 = data_dict[commit].plot.scatter(x='X_nh3 initial',y='X(N) Coverage',\n",
    "                                     label='X(N)',color='g', ax=ax1)\n",
    "ax1.set_xlabel(\"NH3(6) partial pressure (atm)\")\n",
    "ax1.set_ylabel(\"Coverage\")\n",
    "plt.show()"
   ]
  },
  {
   "cell_type": "markdown",
   "metadata": {},
   "source": [
    "### For Rebrov's selectivity definitions:"
   ]
  },
  {
   "cell_type": "code",
   "execution_count": 43,
   "metadata": {},
   "outputs": [
    {
     "ename": "KeyError",
     "evalue": "'NH3_X(8) + O_X(9) <=> NH2_X(10) + OH_X(11) ROP [kmol/m^2 s]'",
     "output_type": "error",
     "traceback": [
      "\u001b[0;31m---------------------------------------------------------------------------\u001b[0m",
      "\u001b[0;31mKeyError\u001b[0m                                  Traceback (most recent call last)",
      "\u001b[0;32m~/.conda/envs/rmg_env/lib/python3.7/site-packages/pandas/core/indexes/base.py\u001b[0m in \u001b[0;36mget_loc\u001b[0;34m(self, key, method, tolerance)\u001b[0m\n\u001b[1;32m   2897\u001b[0m             \u001b[0;32mtry\u001b[0m\u001b[0;34m:\u001b[0m\u001b[0;34m\u001b[0m\u001b[0;34m\u001b[0m\u001b[0m\n\u001b[0;32m-> 2898\u001b[0;31m                 \u001b[0;32mreturn\u001b[0m \u001b[0mself\u001b[0m\u001b[0;34m.\u001b[0m\u001b[0m_engine\u001b[0m\u001b[0;34m.\u001b[0m\u001b[0mget_loc\u001b[0m\u001b[0;34m(\u001b[0m\u001b[0mcasted_key\u001b[0m\u001b[0;34m)\u001b[0m\u001b[0;34m\u001b[0m\u001b[0;34m\u001b[0m\u001b[0m\n\u001b[0m\u001b[1;32m   2899\u001b[0m             \u001b[0;32mexcept\u001b[0m \u001b[0mKeyError\u001b[0m \u001b[0;32mas\u001b[0m \u001b[0merr\u001b[0m\u001b[0;34m:\u001b[0m\u001b[0;34m\u001b[0m\u001b[0;34m\u001b[0m\u001b[0m\n",
      "\u001b[0;32mpandas/_libs/index.pyx\u001b[0m in \u001b[0;36mpandas._libs.index.IndexEngine.get_loc\u001b[0;34m()\u001b[0m\n",
      "\u001b[0;32mpandas/_libs/index.pyx\u001b[0m in \u001b[0;36mpandas._libs.index.IndexEngine.get_loc\u001b[0;34m()\u001b[0m\n",
      "\u001b[0;32mpandas/_libs/hashtable_class_helper.pxi\u001b[0m in \u001b[0;36mpandas._libs.hashtable.PyObjectHashTable.get_item\u001b[0;34m()\u001b[0m\n",
      "\u001b[0;32mpandas/_libs/hashtable_class_helper.pxi\u001b[0m in \u001b[0;36mpandas._libs.hashtable.PyObjectHashTable.get_item\u001b[0;34m()\u001b[0m\n",
      "\u001b[0;31mKeyError\u001b[0m: 'NH3_X(8) + O_X(9) <=> NH2_X(10) + OH_X(11) ROP [kmol/m^2 s]'",
      "\nThe above exception was the direct cause of the following exception:\n",
      "\u001b[0;31mKeyError\u001b[0m                                  Traceback (most recent call last)",
      "\u001b[0;32m<ipython-input-43-8bf280ddfda7>\u001b[0m in \u001b[0;36m<module>\u001b[0;34m\u001b[0m\n\u001b[1;32m      1\u001b[0m \u001b[0;32mfor\u001b[0m \u001b[0mcommit\u001b[0m \u001b[0;32min\u001b[0m \u001b[0mcommit_list\u001b[0m\u001b[0;34m:\u001b[0m\u001b[0;34m\u001b[0m\u001b[0;34m\u001b[0m\u001b[0m\n\u001b[0;32m----> 2\u001b[0;31m     \u001b[0mL5\u001b[0m \u001b[0;34m=\u001b[0m \u001b[0mdata_dict\u001b[0m\u001b[0;34m[\u001b[0m\u001b[0mcommit\u001b[0m\u001b[0;34m]\u001b[0m\u001b[0;34m[\u001b[0m\u001b[0;34m'NH3_X(8) + O_X(9) <=> NH2_X(10) + OH_X(11) ROP [kmol/m^2 s]'\u001b[0m\u001b[0;34m]\u001b[0m\u001b[0;34m+\u001b[0m\u001b[0mdata_dict\u001b[0m\u001b[0;34m[\u001b[0m\u001b[0mcommit\u001b[0m\u001b[0;34m]\u001b[0m\u001b[0;34m[\u001b[0m\u001b[0;34m'NH2_X(10) + O_X(9) <=> NH_X(12) + OH_X(11) ROP [kmol/m^2 s]'\u001b[0m\u001b[0;34m]\u001b[0m\u001b[0;34m+\u001b[0m\u001b[0mdata_dict\u001b[0m\u001b[0;34m[\u001b[0m\u001b[0mcommit\u001b[0m\u001b[0;34m]\u001b[0m\u001b[0;34m[\u001b[0m\u001b[0;34m'NH_X(12) + O_X(9) <=> N_X(13) + OH_X(11) ROP [kmol/m^2 s]'\u001b[0m\u001b[0;34m]\u001b[0m\u001b[0;34m\u001b[0m\u001b[0;34m\u001b[0m\u001b[0m\n\u001b[0m\u001b[1;32m      3\u001b[0m     \u001b[0mL6\u001b[0m \u001b[0;34m=\u001b[0m \u001b[0mdata_dict\u001b[0m\u001b[0;34m[\u001b[0m\u001b[0mcommit\u001b[0m\u001b[0;34m]\u001b[0m\u001b[0;34m[\u001b[0m\u001b[0;34m'2 N_X(13) <=> N2(4) + 2 X(1) ROP [kmol/m^2 s]'\u001b[0m\u001b[0;34m]\u001b[0m\u001b[0;34m\u001b[0m\u001b[0;34m\u001b[0m\u001b[0m\n\u001b[1;32m      4\u001b[0m     \u001b[0mL7\u001b[0m \u001b[0;34m=\u001b[0m  \u001b[0mdata_dict\u001b[0m\u001b[0;34m[\u001b[0m\u001b[0mcommit\u001b[0m\u001b[0;34m]\u001b[0m\u001b[0;34m[\u001b[0m\u001b[0;34m'NO_X(14) + N_X(13) <=> N2O(7) + 2 X(1) ROP [kmol/m^2 s]'\u001b[0m\u001b[0;34m]\u001b[0m\u001b[0;34m\u001b[0m\u001b[0;34m\u001b[0m\u001b[0m\n\u001b[1;32m      5\u001b[0m     \u001b[0mL12\u001b[0m \u001b[0;34m=\u001b[0m \u001b[0mdata_dict\u001b[0m\u001b[0;34m[\u001b[0m\u001b[0mcommit\u001b[0m\u001b[0;34m]\u001b[0m\u001b[0;34m[\u001b[0m\u001b[0;34m'NO_X(14) <=> NO(5) + X(1) ROP [kmol/m^2 s]'\u001b[0m\u001b[0;34m]\u001b[0m\u001b[0;34m\u001b[0m\u001b[0;34m\u001b[0m\u001b[0m\n",
      "\u001b[0;32m~/.conda/envs/rmg_env/lib/python3.7/site-packages/pandas/core/frame.py\u001b[0m in \u001b[0;36m__getitem__\u001b[0;34m(self, key)\u001b[0m\n\u001b[1;32m   2904\u001b[0m             \u001b[0;32mif\u001b[0m \u001b[0mself\u001b[0m\u001b[0;34m.\u001b[0m\u001b[0mcolumns\u001b[0m\u001b[0;34m.\u001b[0m\u001b[0mnlevels\u001b[0m \u001b[0;34m>\u001b[0m \u001b[0;36m1\u001b[0m\u001b[0;34m:\u001b[0m\u001b[0;34m\u001b[0m\u001b[0;34m\u001b[0m\u001b[0m\n\u001b[1;32m   2905\u001b[0m                 \u001b[0;32mreturn\u001b[0m \u001b[0mself\u001b[0m\u001b[0;34m.\u001b[0m\u001b[0m_getitem_multilevel\u001b[0m\u001b[0;34m(\u001b[0m\u001b[0mkey\u001b[0m\u001b[0;34m)\u001b[0m\u001b[0;34m\u001b[0m\u001b[0;34m\u001b[0m\u001b[0m\n\u001b[0;32m-> 2906\u001b[0;31m             \u001b[0mindexer\u001b[0m \u001b[0;34m=\u001b[0m \u001b[0mself\u001b[0m\u001b[0;34m.\u001b[0m\u001b[0mcolumns\u001b[0m\u001b[0;34m.\u001b[0m\u001b[0mget_loc\u001b[0m\u001b[0;34m(\u001b[0m\u001b[0mkey\u001b[0m\u001b[0;34m)\u001b[0m\u001b[0;34m\u001b[0m\u001b[0;34m\u001b[0m\u001b[0m\n\u001b[0m\u001b[1;32m   2907\u001b[0m             \u001b[0;32mif\u001b[0m \u001b[0mis_integer\u001b[0m\u001b[0;34m(\u001b[0m\u001b[0mindexer\u001b[0m\u001b[0;34m)\u001b[0m\u001b[0;34m:\u001b[0m\u001b[0;34m\u001b[0m\u001b[0;34m\u001b[0m\u001b[0m\n\u001b[1;32m   2908\u001b[0m                 \u001b[0mindexer\u001b[0m \u001b[0;34m=\u001b[0m \u001b[0;34m[\u001b[0m\u001b[0mindexer\u001b[0m\u001b[0;34m]\u001b[0m\u001b[0;34m\u001b[0m\u001b[0;34m\u001b[0m\u001b[0m\n",
      "\u001b[0;32m~/.conda/envs/rmg_env/lib/python3.7/site-packages/pandas/core/indexes/base.py\u001b[0m in \u001b[0;36mget_loc\u001b[0;34m(self, key, method, tolerance)\u001b[0m\n\u001b[1;32m   2898\u001b[0m                 \u001b[0;32mreturn\u001b[0m \u001b[0mself\u001b[0m\u001b[0;34m.\u001b[0m\u001b[0m_engine\u001b[0m\u001b[0;34m.\u001b[0m\u001b[0mget_loc\u001b[0m\u001b[0;34m(\u001b[0m\u001b[0mcasted_key\u001b[0m\u001b[0;34m)\u001b[0m\u001b[0;34m\u001b[0m\u001b[0;34m\u001b[0m\u001b[0m\n\u001b[1;32m   2899\u001b[0m             \u001b[0;32mexcept\u001b[0m \u001b[0mKeyError\u001b[0m \u001b[0;32mas\u001b[0m \u001b[0merr\u001b[0m\u001b[0;34m:\u001b[0m\u001b[0;34m\u001b[0m\u001b[0;34m\u001b[0m\u001b[0m\n\u001b[0;32m-> 2900\u001b[0;31m                 \u001b[0;32mraise\u001b[0m \u001b[0mKeyError\u001b[0m\u001b[0;34m(\u001b[0m\u001b[0mkey\u001b[0m\u001b[0;34m)\u001b[0m \u001b[0;32mfrom\u001b[0m \u001b[0merr\u001b[0m\u001b[0;34m\u001b[0m\u001b[0;34m\u001b[0m\u001b[0m\n\u001b[0m\u001b[1;32m   2901\u001b[0m \u001b[0;34m\u001b[0m\u001b[0m\n\u001b[1;32m   2902\u001b[0m         \u001b[0;32mif\u001b[0m \u001b[0mtolerance\u001b[0m \u001b[0;32mis\u001b[0m \u001b[0;32mnot\u001b[0m \u001b[0;32mNone\u001b[0m\u001b[0;34m:\u001b[0m\u001b[0;34m\u001b[0m\u001b[0;34m\u001b[0m\u001b[0m\n",
      "\u001b[0;31mKeyError\u001b[0m: 'NH3_X(8) + O_X(9) <=> NH2_X(10) + OH_X(11) ROP [kmol/m^2 s]'"
     ]
    }
   ],
   "source": [
    "for commit in commit_list:\n",
    "    L5 = data_dict[commit]['NH3X + OX <=> NH2_X(8) + OHX ROP [kmol/m^2 s]']+data_dict[commit]['NH2_X(8) + OX <=> NH_X(9) + OHX ROP [kmol/m^2 s]']+data_dict[commit]['NH_X(12) + O_X(9) <=> N_X(13) + OH_X(11) ROP [kmol/m^2 s]']\n",
    "    L6 = data_dict[commit]['2 N_X(13) <=> N2(4) + 2 X(1) ROP [kmol/m^2 s]']\n",
    "    L7 =  data_dict[commit]['NO_X(14) + N_X(13) <=> N2O(7) + 2 X(1) ROP [kmol/m^2 s]']\n",
    "    L12 = data_dict[commit]['NO_X(14) <=> NO(5) + X(1) ROP [kmol/m^2 s]']\n",
    "    L13 = data_dict[commit]['N2O(7) + X(1) <=> N2(4) + O_X(9) ROP [kmol/m^2 s]'] \n",
    "\n",
    "    S_N2 = 2*(L6+L13)/L5\n",
    "    S_N2O = 2*(L7-L13)/L5\n",
    "    S_NO = 1*L12/L5\n",
    "    data_dict[commit]['N2(4) Selectivity (%)'] = 100*S_N2 / (S_N2 + S_NO + S_N2O)\n",
    "    data_dict[commit]['NO(5) Selectivity (%)'] = 100*S_NO / (S_N2 + S_NO + S_N2O)\n",
    "    data_dict[commit]['N2O(7) Selectivity (%)'] = 100*S_N2O / (S_N2 + S_NO + S_N2O)\n",
    "\n",
    "# data_dict[commit]['N2(4) Selectivity (%)']\n",
    "# data_dict[commit]['NO(5) Selectivity (%)']\n",
    "# data_dict[commit]['N2O(7) Selectivity (%)']"
   ]
  },
  {
   "cell_type": "markdown",
   "metadata": {},
   "source": [
    "### Use this if run RMG on master"
   ]
  },
  {
   "cell_type": "code",
   "execution_count": null,
   "metadata": {},
   "outputs": [],
   "source": [
    "for commit in commit_list:\n",
    "    for i in conversion_species:\n",
    "        data_dict[commit]['NH3(6) conversion (%)'] = 100*(data_dict[commit]['X_nh3 initial'] - data_dict[commit][i])/data_dict[commit]['X_nh3 initial']\n",
    "    \n",
    "    for i in selectivity_species:\n",
    "        data_dict[commit][f'{i} Selectivity (%)'] = 100*(data_dict[commit][i])/(data_dict[commit]['X_nh3 initial'] - data_dict[commit]['NH3(6)'])\n",
    "\n",
    "    for i in coverage_species_1:\n",
    "        data_dict[commit][f'{i} Coverage'] = (data_dict[commit][i])/(data_dict[commit]['OX(10)'] + data_dict[commit]['HOX(13)']+ data_dict[commit]['X(1)'])\n",
    "    \n",
    "    for i in coverage_species_2:\n",
    "        data_dict[commit][f'{i} Coverage'] = (data_dict[commit][i])/(data_dict[commit]['NO_ads(27)'] + data_dict[commit]['N_ads(64)']+ data_dict[commit]['H3NX(29)']+ data_dict[commit]['X(1)'])\n",
    "        "
   ]
  },
  {
   "cell_type": "code",
   "execution_count": null,
   "metadata": {},
   "outputs": [],
   "source": [
    "ax1 = data_dict[commit].plot(x='X_nh3 initial',y='OX(10) Coverage',\n",
    "                                     label='O_X',color=\"orange\")\n",
    "ax2 = data_dict[commit].plot(x='X_nh3 initial',y='HOX(13) Coverage',\n",
    "                                     label='OH_X',color='g', ax=ax1)\n",
    "ax3 = data_dict[commit].plot(x='X_nh3 initial',y='X(1) Coverage',\n",
    "                                     label='X',color='blue', ax=ax1)\n",
    "ax1.set_xlabel(\"NH3(6) partial pressure (atm)\")\n",
    "ax1.set_ylabel(\"Coverage (%)\")\n",
    "plt.show()"
   ]
  },
  {
   "cell_type": "code",
   "execution_count": null,
   "metadata": {},
   "outputs": [],
   "source": [
    "ax1 = data_dict[commit].plot(x='X_nh3 initial',y='NO_ads(27) Coverage',\n",
    "                                     label='NO_X',color=\"r\")\n",
    "ax2 = data_dict[commit].plot(x='X_nh3 initial',y='N_ads(72) Coverage',\n",
    "                                     label='N_X',color='orange', ax=ax1)\n",
    "ax3 = data_dict[commit].plot(x='X_nh3 initial',y='H3NX(29) Coverage',\n",
    "                                     label='NH3_X',color='b', ax=ax1)\n",
    "ax4 = data_dict[commit].plot(x='X_nh3 initial',y='X Coverage',\n",
    "                                     label='X',color='g', ax=ax1)\n",
    "ax1.set_xlabel(\"NH3(6) partial pressure (atm)\")\n",
    "ax1.set_ylabel(\"Coverage (%)\")\n",
    "plt.show()"
   ]
  },
  {
   "cell_type": "markdown",
   "metadata": {},
   "source": [
    "### If have temperature range, try this"
   ]
  },
  {
   "cell_type": "code",
   "execution_count": null,
   "metadata": {},
   "outputs": [],
   "source": [
    "\n",
    "temps = data_dict[commit_list[0]]['T (K)'].unique()\n",
    "for commit in commit_list:\n",
    "    for temp in temps:\n",
    "        o2_ratio = data_dict[commit_list[0]]['X_o2 initial'].unique()\n",
    "        fig, ax = plt.subplots(len(o2_ratio),1,figsize=(10,10), constrained_layout = True)\n",
    "        color_dict = { 0:\"r\", 1:\"gold\", 2:\"pink\", 3:\"yellowgreen\",4:\"lightskyblue\"}\n",
    "        for p,j in enumerate(o2_ratio):\n",
    "            data_dict[commit][(data_dict[commit]['X_o2 initial'] == j) &\n",
    "                             (data_dict[commit]['T (K)'] == temp)].plot.scatter(x='X_nh3 initial', \n",
    "                                                                                 y='NH3(6) conversion (%)', \n",
    "                                                                                 label='NH3(6) conversion (%)', \n",
    "                                                                                 ax=ax[p], \n",
    "                                                                                 color=\"r\")\n",
    "                              \n",
    "            ax[p].set_title(f'{commit} \\nmole frac O2 = {j} \\ntemperature {temp}')"
   ]
  },
  {
   "cell_type": "code",
   "execution_count": 16,
   "metadata": {},
   "outputs": [
    {
     "data": {
      "text/plain": [
       "0.06603830951657039"
      ]
     },
     "execution_count": 16,
     "metadata": {},
     "output_type": "execute_result"
    }
   ],
   "source": [
    "pi = 3.14159\n",
    "Pt_radius = 1.15e-9 #m, 23Å/2\n",
    "Pt_mass = 5.43e-4 #g\n",
    "Pt_density = 2.145e7 #g/m3\n",
    "Pt_total_vol = Pt_mass/Pt_density\n",
    "Pt_vol = 4/3*pi*Pt_radius**3\n",
    "numbers_of_Pt = Pt_total_vol/Pt_vol\n",
    "cat_area_total = numbers_of_Pt*4*pi*Pt_radius**2\n",
    "cat_area_total"
   ]
  },
  {
   "cell_type": "code",
   "execution_count": null,
   "metadata": {},
   "outputs": [],
   "source": []
  }
 ],
 "metadata": {
  "kernelspec": {
   "display_name": "rmg_env",
   "language": "python",
   "name": "rmg_env"
  },
  "language_info": {
   "codemirror_mode": {
    "name": "ipython",
    "version": 3
   },
   "file_extension": ".py",
   "mimetype": "text/x-python",
   "name": "python",
   "nbconvert_exporter": "python",
   "pygments_lexer": "ipython3",
   "version": "3.7.7"
  }
 },
 "nbformat": 4,
 "nbformat_minor": 4
}
