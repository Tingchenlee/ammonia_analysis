{
 "cells": [
  {
   "cell_type": "code",
   "execution_count": 15,
   "metadata": {},
   "outputs": [],
   "source": [
    "import os\n",
    "import glob\n",
    "import itertools\n",
    "from random import randint\n",
    "import pandas as pd\n",
    "import numpy as np\n",
    "import csv\n",
    "import matplotlib.pyplot as plt\n",
    "from pathlib import Path\n",
    "import time\n",
    "\n",
    "import matplotlib.cm as cm\n",
    "from IPython.display import Image\n",
    "import git\n",
    "\n",
    "from rmgpy.molecule import Molecule\n",
    "from rmgpy.data.base import Database"
   ]
  },
  {
   "cell_type": "code",
   "execution_count": 16,
   "metadata": {},
   "outputs": [],
   "source": [
    "#Input file\n",
    "rmg_model_path = '../../ammonia/'\n",
    "analysis_path = '../Three_variables/results/no_gasrxn_results_O2'"
   ]
  },
  {
   "cell_type": "code",
   "execution_count": 17,
   "metadata": {},
   "outputs": [
    {
     "data": {
      "text/plain": [
       "'2021_6_18_1037_aa0501_changed_X(1)_to_X(N)_and_X(H)_in_the_cti_files'"
      ]
     },
     "execution_count": 17,
     "metadata": {},
     "output_type": "execute_result"
    }
   ],
   "source": [
    "#Git-python: checkout master branch\n",
    "import git\n",
    "repo = git.Repo(rmg_model_path)\n",
    "date = time.localtime(repo.head.commit.committed_date)\n",
    "git_date = f\"{date[0]}_{date[1]}_{date[2]}_{date[3]}{date[4]}\"\n",
    "git_sha = str(repo.head.commit)[0:6]\n",
    "git_msg = str(repo.head.commit.message)[0:50].replace(\" \", \"_\").replace(\"'\", \"_\").replace(\"\\n\", \"\")\n",
    "\n",
    "current_commit = f\"{git_date}_{git_sha}_{git_msg}\"\n",
    "\n",
    "current_commit"
   ]
  },
  {
   "cell_type": "code",
   "execution_count": 18,
   "metadata": {},
   "outputs": [],
   "source": [
    "# #checkout 1 commit back\n",
    "# repo.git.checkout('HEAD^1')\n",
    "# sha = str(repo.head.commit)\n",
    "# msg = str(repo.head.commit.message)\n",
    "# print(sha,': ', msg)\n",
    "\n",
    "# #checkout 2 commit back\n",
    "# repo = git.Repo('/work/westgroup/lee.ting/cantera/ammonia/')\n",
    "# repo.git.checkout('HEAD^1')\n",
    "# sha = repo.head.commit\n",
    "# msg = repo.head.commit.message\n",
    "# print(sha,': ', msg)"
   ]
  },
  {
   "cell_type": "code",
   "execution_count": 19,
   "metadata": {},
   "outputs": [
    {
     "name": "stdout",
     "output_type": "stream",
     "text": [
      "/2021_6_18_1037_aa0501_changed_X(1)_to_X(N)_and_X(H)_in_the_cti_files/IdealGasReactor/energy_off/sensitivity_off/700/results/Spinning_basket_area_3.3e-05_energy_off_temp_700_O2_0_2_NH3_0.csv\n",
      "/2021_6_18_1037_aa0501_changed_X(1)_to_X(N)_and_X(H)_in_the_cti_files/IdealGasReactor/energy_off/sensitivity_off/700/results/Spinning_basket_area_3.3e-05_energy_off_temp_700_O2_0_3_NH3_0.csv\n",
      "/2021_6_18_1037_aa0501_changed_X(1)_to_X(N)_and_X(H)_in_the_cti_files/IdealGasReactor/energy_off/sensitivity_off/700/results/Spinning_basket_area_3.3e-05_energy_off_temp_700_O2_0_4_NH3_0.csv\n",
      "/2021_6_18_1037_aa0501_changed_X(1)_to_X(N)_and_X(H)_in_the_cti_files/IdealGasReactor/energy_off/sensitivity_off/700/results/Spinning_basket_area_3.3e-05_energy_off_temp_700_O2_0_5_NH3_0.csv\n",
      "/2021_6_18_1037_aa0501_changed_X(1)_to_X(N)_and_X(H)_in_the_cti_files/IdealGasReactor/energy_off/sensitivity_off/700/results/Spinning_basket_area_3.3e-05_energy_off_temp_700_O2_0_6_NH3_0.csv\n",
      "/2021_6_18_1037_aa0501_changed_X(1)_to_X(N)_and_X(H)_in_the_cti_files/IdealGasReactor/energy_off/sensitivity_off/700/results/Spinning_basket_area_3.3e-05_energy_off_temp_700_O2_0_7_NH3_0.csv\n",
      "/2021_6_18_1037_aa0501_changed_X(1)_to_X(N)_and_X(H)_in_the_cti_files/IdealGasReactor/energy_off/sensitivity_off/700/results/Spinning_basket_area_3.3e-05_energy_off_temp_700_O2_0_88_NH3_0.csv\n",
      "/2021_6_18_1037_aa0501_changed_X(1)_to_X(N)_and_X(H)_in_the_cti_files/IdealGasReactor/energy_off/sensitivity_off/700/results/Spinning_basket_area_3.3e-05_energy_off_temp_700_O2_0_8_NH3_0.csv\n",
      "/2021_6_18_1037_aa0501_changed_X(1)_to_X(N)_and_X(H)_in_the_cti_files/IdealGasReactor/energy_off/sensitivity_off/700/results/Spinning_basket_area_3.3e-05_energy_off_temp_700_O2_0_9_NH3_0.csv\n",
      "/2021_6_18_1127_42dcc7_treat_X_as_XN_and_XH/IdealGasReactor/energy_off/sensitivity_off/700/results/Spinning_basket_area_3.3e-05_energy_off_temp_700_O2_0_2_NH3_0.csv\n",
      "/2021_6_18_1127_42dcc7_treat_X_as_XN_and_XH/IdealGasReactor/energy_off/sensitivity_off/700/results/Spinning_basket_area_3.3e-05_energy_off_temp_700_O2_0_3_NH3_0.csv\n",
      "/2021_6_18_1127_42dcc7_treat_X_as_XN_and_XH/IdealGasReactor/energy_off/sensitivity_off/700/results/Spinning_basket_area_3.3e-05_energy_off_temp_700_O2_0_4_NH3_0.csv\n",
      "/2021_6_18_1127_42dcc7_treat_X_as_XN_and_XH/IdealGasReactor/energy_off/sensitivity_off/700/results/Spinning_basket_area_3.3e-05_energy_off_temp_700_O2_0_5_NH3_0.csv\n",
      "/2021_6_18_1127_42dcc7_treat_X_as_XN_and_XH/IdealGasReactor/energy_off/sensitivity_off/700/results/Spinning_basket_area_3.3e-05_energy_off_temp_700_O2_0_6_NH3_0.csv\n",
      "/2021_6_18_1127_42dcc7_treat_X_as_XN_and_XH/IdealGasReactor/energy_off/sensitivity_off/700/results/Spinning_basket_area_3.3e-05_energy_off_temp_700_O2_0_7_NH3_0.csv\n",
      "/2021_6_18_1127_42dcc7_treat_X_as_XN_and_XH/IdealGasReactor/energy_off/sensitivity_off/700/results/Spinning_basket_area_3.3e-05_energy_off_temp_700_O2_0_88_NH3_0.csv\n",
      "/2021_6_18_1127_42dcc7_treat_X_as_XN_and_XH/IdealGasReactor/energy_off/sensitivity_off/700/results/Spinning_basket_area_3.3e-05_energy_off_temp_700_O2_0_8_NH3_0.csv\n",
      "/2021_6_18_1127_42dcc7_treat_X_as_XN_and_XH/IdealGasReactor/energy_off/sensitivity_off/700/results/Spinning_basket_area_3.3e-05_energy_off_temp_700_O2_0_9_NH3_0.csv\n",
      "['']\n"
     ]
    }
   ],
   "source": [
    "commit_list = []\n",
    "\n",
    "# read in each filename into dictionary. get a list of the commit folders in this repo\n",
    "for path in Path(analysis_path).rglob('*.csv'):\n",
    "    path_str = str(path)\n",
    "    start_index = path_str.find(analysis_path)\n",
    "    \n",
    "    if start_index != -1:\n",
    "        commit = path_str[(start_index+len(analysis_path)):]\n",
    "        print(commit)\n",
    "        if \"\\n\" in commit:\n",
    "            end_char = commit.index(\"\\n\")\n",
    "        else: \n",
    "            end_char = commit.index(\"/\")\n",
    "        \n",
    "        commit = commit[:end_char]\n",
    "        if commit not in commit_list:\n",
    "            commit_list.append(commit)\n",
    "        \n",
    "print(commit_list)   "
   ]
  },
  {
   "cell_type": "code",
   "execution_count": 20,
   "metadata": {
    "scrolled": true
   },
   "outputs": [],
   "source": [
    "data_dict = {}\n",
    "\n",
    "# Read last line from each CSV file to get the outlet concentrations from the PFR\n",
    "# if \"one_commit\" is true, only run the master commit \n",
    "one_commit = False\n",
    "if one_commit == True:\n",
    "    commit_list = [current_commit]\n",
    "    \n",
    "for commit in commit_list:\n",
    "    first_file = True\n",
    "    for path in Path(f\"../Three_variables/results/no_gasrxn_results_O2/{current_commit}\").rglob('*.csv'):\n",
    "        path_str = str(path)\n",
    "        if os.stat(path_str).st_size >= 1e6:\n",
    "            if first_file == True: \n",
    "                data = pd.read_csv(path_str)\n",
    "                aggdata = data.tail(1)\n",
    "                first_file = False\n",
    "            else: \n",
    "                data = pd.read_csv(path_str)\n",
    "                aggdata = aggdata.append(data.tail(1))\n",
    "            data_dict.update({commit:aggdata})\n",
    "        else:\n",
    "            print(path_str)"
   ]
  },
  {
   "cell_type": "markdown",
   "metadata": {},
   "source": [
    "## Reproduce plots from Rebrov\n",
    "\n",
    "Rebrov, E. V., De Croon, M. H. J. M., & Schouten, J. C. (2002). Development of the kinetic model of platinum catalyzed ammonia oxidation in a microreactor. Chemical Engineering Journal, 90(1–2), 61–76. https://doi.org/10.1016/S1385-8947(02)00068-2\n",
    "\n",
    "\n",
    "for reference: \n",
    "\n",
    "### $conversion(\\%) = \\frac{moles\\_fed - moles\\_out}{moles\\_fed} $\n",
    "\n",
    "### $selectivity(\\%, N_2) = \\frac{(2*r_{L6}+r_{L13})100}{r_{L5}} $\n",
    "\n",
    "### $selectivity(\\%, N_{2}O) = \\frac{(2*r_{L7}-r_{L13})100}{r_{L5}} $"
   ]
  },
  {
   "cell_type": "markdown",
   "metadata": {},
   "source": [
    "# For our selectivity definitions\n",
    "Two types of selectivity. Overall, and instantaneous. \n",
    "\n",
    "For overall selectivity, it depends on the total amounts exiting the packed bed. Probably what is measured experimentally from the PBR experiment (by measuring concentrations leaving the bed).\n",
    "\n",
    "$$ selectivity(N2) = \\frac{2 * moles_{N2}}{molesfed_{NH3} - moles_{NH3}} * 100\\%$$\n",
    "The 2 is because we are preserving (and counting) atoms of Nitrogen. Selectivity is \"What percentage of N atoms (from consuming ammonia) ended up as N2?\n",
    "\"\n",
    "\n",
    "$$ selectivity(N2O) = \\frac{2 * moles_{N2O}}{molesfed_{NH3} - moles_{NH3}} * 100\\%$$\n",
    "$$ selectivity(NO) = \\frac{moles_{NO}}{molesfed_{NH3} - moles_{NH3}} * 100\\%$$\n",
    "\n",
    "\n",
    "For instantaneous selectivity, it changes at different points in the packed bed. \n",
    "If we want the instantaneous selectivity evaluated at the exit of the bed, evaluate these expressions at the end of the bed (the last row):\n",
    "\n",
    "$$ selectivity(N2)  = \\frac{ 2 * net rate of production of N2}{-1 * net rate of production of NH3}$$\n",
    "$$ selectivity(N2O)  = \\frac{ 2 * net rate of production of N2O}{-1 * net rate of production of NH3}$$\n",
    "$$ selectivity(NO)  = \\frac{  net rate of production of NO}{-1 * net rate of production of NH3}$$\n"
   ]
  },
  {
   "cell_type": "code",
   "execution_count": 52,
   "metadata": {
    "scrolled": true
   },
   "outputs": [
    {
     "data": {
      "image/png": "[encoded data removed]",
      "text/plain": [
       "<IPython.core.display.Image object>"
      ]
     },
     "execution_count": 52,
     "metadata": {},
     "output_type": "execute_result"
    }
   ],
   "source": [
    "Image('Images/Rebrov_table2.png')"
   ]
  },
  {
   "cell_type": "markdown",
   "metadata": {},
   "source": [
    "### Figure 3\n",
    "#### create partial pressure, selectivity, and concentration columns in the dataframe"
   ]
  },
  {
   "cell_type": "code",
   "execution_count": 21,
   "metadata": {},
   "outputs": [],
   "source": [
    "for commit in commit_list:\n",
    "    data_dict[commit]['NH3(6) conversion (%)']= 100*(data_dict[commit]['X_nh3 initial'] - data_dict[commit]['NH3(6)'])/data_dict[commit]['X_nh3 initial']\n",
    "    \n",
    "    S_N2 = ((-2)*(data_dict[commit]['N2(4) ROP [kmol/m^3 s]']+data_dict[commit]['N2(4) surface ROP [kmol/m^2 s]'])/\n",
    "            (data_dict[commit]['NH3(6) ROP [kmol/m^3 s]']+ data_dict[commit]['NH3(6) surface ROP [kmol/m^2 s]']))\n",
    "\n",
    "    S_NO = ((-1)*(data_dict[commit]['NO(5) ROP [kmol/m^3 s]']+data_dict[commit]['NO(5) surface ROP [kmol/m^2 s]'])/\n",
    "            (data_dict[commit]['NH3(6) ROP [kmol/m^3 s]']+ data_dict[commit]['NH3(6) surface ROP [kmol/m^2 s]']))\n",
    "\n",
    "    S_N2O = ((-2)*(data_dict[commit]['N2O(7) ROP [kmol/m^3 s]']+data_dict[commit]['N2O(7) surface ROP [kmol/m^2 s]'])/\n",
    "            (data_dict[commit]['NH3(6) ROP [kmol/m^3 s]']+ data_dict[commit]['NH3(6) surface ROP [kmol/m^2 s]']))\n",
    "    \n",
    "    data_dict[commit]['N2(4) Selectivity (%)'] = 100*S_N2 / (S_N2 + S_NO + S_N2O)\n",
    "    data_dict[commit]['NO(5) Selectivity (%)'] = 100*S_NO / (S_N2 + S_NO + S_N2O)\n",
    "    data_dict[commit]['N2O(7) Selectivity (%)'] = 100*S_N2O / (S_N2 + S_NO + S_N2O)\n",
    "\n",
    "    data_dict[commit]['OX Coverage']=data_dict[commit]['OX']/(data_dict[commit]['OX'] + data_dict[commit]['OHX']+ data_dict[commit]['X(H)'])\n",
    "    data_dict[commit]['OHX Coverage']=data_dict[commit]['OHX']/(data_dict[commit]['OX'] + data_dict[commit]['OHX']+ data_dict[commit]['X(H)'])\n",
    "    data_dict[commit]['X(H) Coverage']=data_dict[commit]['X(H)']/(data_dict[commit]['OX'] + data_dict[commit]['OHX']+ data_dict[commit]['X(H)'])\n",
    "    \n",
    "    data_dict[commit]['NOX Coverage']=data_dict[commit]['NOX']/(data_dict[commit]['NOX'] + data_dict[commit]['NX']+ data_dict[commit]['NH3X']+ data_dict[commit]['X(N)'])\n",
    "    data_dict[commit]['NX Coverage']=data_dict[commit]['NX']/(data_dict[commit]['NOX'] + data_dict[commit]['NX']+ data_dict[commit]['NH3X']+ data_dict[commit]['X(N)'])\n",
    "    data_dict[commit]['NH3X Coverage']=data_dict[commit]['NH3X']/(data_dict[commit]['NOX'] + data_dict[commit]['NX']+ data_dict[commit]['NH3X']+ data_dict[commit]['X(N)'])\n",
    "    data_dict[commit]['X(N) Coverage']=data_dict[commit]['X(N)']/(data_dict[commit]['NOX'] + data_dict[commit]['NX']+ data_dict[commit]['NH3X']+ data_dict[commit]['X(N)'])\n"
   ]
  },
  {
   "cell_type": "code",
   "execution_count": 22,
   "metadata": {
    "scrolled": false
   },
   "outputs": [
    {
     "data": {
      "text/html": [
       "<div>\n",
       "<style scoped>\n",
       "    .dataframe tbody tr th:only-of-type {\n",
       "        vertical-align: middle;\n",
       "    }\n",
       "\n",
       "    .dataframe tbody tr th {\n",
       "        vertical-align: top;\n",
       "    }\n",
       "\n",
       "    .dataframe thead th {\n",
       "        text-align: right;\n",
       "    }\n",
       "</style>\n",
       "<table border=\"1\" class=\"dataframe\">\n",
       "  <thead>\n",
       "    <tr style=\"text-align: right;\">\n",
       "      <th></th>\n",
       "      <th>Distance (mm)</th>\n",
       "      <th>T (K)</th>\n",
       "      <th>P (Pa)</th>\n",
       "      <th>V (M^3/s)</th>\n",
       "      <th>X_nh3 initial</th>\n",
       "      <th>X_o2 initial</th>\n",
       "      <th>X_he initial</th>\n",
       "      <th>(NH3/O2)</th>\n",
       "      <th>T (K) final</th>\n",
       "      <th>Rtol</th>\n",
       "      <th>...</th>\n",
       "      <th>N2(4) Selectivity (%)</th>\n",
       "      <th>NO(5) Selectivity (%)</th>\n",
       "      <th>N2O(7) Selectivity (%)</th>\n",
       "      <th>OX Coverage</th>\n",
       "      <th>OHX Coverage</th>\n",
       "      <th>X(H) Coverage</th>\n",
       "      <th>NOX Coverage</th>\n",
       "      <th>NX Coverage</th>\n",
       "      <th>NH3X Coverage</th>\n",
       "      <th>X(N) Coverage</th>\n",
       "    </tr>\n",
       "  </thead>\n",
       "  <tbody>\n",
       "    <tr>\n",
       "      <th>2000</th>\n",
       "      <td>9.0</td>\n",
       "      <td>700</td>\n",
       "      <td>101325.0</td>\n",
       "      <td>0.000058</td>\n",
       "      <td>0.066</td>\n",
       "      <td>0.20</td>\n",
       "      <td>0.734</td>\n",
       "      <td>0.330000</td>\n",
       "      <td>700.0</td>\n",
       "      <td>1.000000e-10</td>\n",
       "      <td>...</td>\n",
       "      <td>100.0</td>\n",
       "      <td>2.657451e-11</td>\n",
       "      <td>3.083846e-11</td>\n",
       "      <td>0.903101</td>\n",
       "      <td>0.000002</td>\n",
       "      <td>0.096897</td>\n",
       "      <td>0.000002</td>\n",
       "      <td>0.000353</td>\n",
       "      <td>0.000946</td>\n",
       "      <td>0.998698</td>\n",
       "    </tr>\n",
       "    <tr>\n",
       "      <th>2000</th>\n",
       "      <td>9.0</td>\n",
       "      <td>700</td>\n",
       "      <td>101325.0</td>\n",
       "      <td>0.000058</td>\n",
       "      <td>0.066</td>\n",
       "      <td>0.30</td>\n",
       "      <td>0.634</td>\n",
       "      <td>0.220000</td>\n",
       "      <td>700.0</td>\n",
       "      <td>1.000000e-10</td>\n",
       "      <td>...</td>\n",
       "      <td>100.0</td>\n",
       "      <td>2.660415e-11</td>\n",
       "      <td>1.051949e-11</td>\n",
       "      <td>0.919310</td>\n",
       "      <td>0.000002</td>\n",
       "      <td>0.080688</td>\n",
       "      <td>0.000002</td>\n",
       "      <td>0.000353</td>\n",
       "      <td>0.000946</td>\n",
       "      <td>0.998699</td>\n",
       "    </tr>\n",
       "    <tr>\n",
       "      <th>2000</th>\n",
       "      <td>9.0</td>\n",
       "      <td>700</td>\n",
       "      <td>101325.0</td>\n",
       "      <td>0.000058</td>\n",
       "      <td>0.066</td>\n",
       "      <td>0.40</td>\n",
       "      <td>0.534</td>\n",
       "      <td>0.165000</td>\n",
       "      <td>700.0</td>\n",
       "      <td>1.000000e-10</td>\n",
       "      <td>...</td>\n",
       "      <td>100.0</td>\n",
       "      <td>2.798176e-11</td>\n",
       "      <td>-7.341873e-08</td>\n",
       "      <td>0.929134</td>\n",
       "      <td>0.000002</td>\n",
       "      <td>0.070865</td>\n",
       "      <td>0.000002</td>\n",
       "      <td>0.000352</td>\n",
       "      <td>0.000946</td>\n",
       "      <td>0.998700</td>\n",
       "    </tr>\n",
       "    <tr>\n",
       "      <th>2000</th>\n",
       "      <td>9.0</td>\n",
       "      <td>700</td>\n",
       "      <td>101325.0</td>\n",
       "      <td>0.000058</td>\n",
       "      <td>0.066</td>\n",
       "      <td>0.50</td>\n",
       "      <td>0.434</td>\n",
       "      <td>0.132000</td>\n",
       "      <td>700.0</td>\n",
       "      <td>1.000000e-10</td>\n",
       "      <td>...</td>\n",
       "      <td>100.0</td>\n",
       "      <td>2.866110e-11</td>\n",
       "      <td>3.754642e-11</td>\n",
       "      <td>0.936160</td>\n",
       "      <td>0.000002</td>\n",
       "      <td>0.063838</td>\n",
       "      <td>0.000002</td>\n",
       "      <td>0.000352</td>\n",
       "      <td>0.000946</td>\n",
       "      <td>0.998700</td>\n",
       "    </tr>\n",
       "    <tr>\n",
       "      <th>2000</th>\n",
       "      <td>9.0</td>\n",
       "      <td>700</td>\n",
       "      <td>101325.0</td>\n",
       "      <td>0.000058</td>\n",
       "      <td>0.066</td>\n",
       "      <td>0.60</td>\n",
       "      <td>0.334</td>\n",
       "      <td>0.110000</td>\n",
       "      <td>700.0</td>\n",
       "      <td>1.000000e-10</td>\n",
       "      <td>...</td>\n",
       "      <td>100.0</td>\n",
       "      <td>2.858268e-11</td>\n",
       "      <td>1.051531e-10</td>\n",
       "      <td>0.941284</td>\n",
       "      <td>0.000002</td>\n",
       "      <td>0.058714</td>\n",
       "      <td>0.000002</td>\n",
       "      <td>0.000351</td>\n",
       "      <td>0.000946</td>\n",
       "      <td>0.998701</td>\n",
       "    </tr>\n",
       "    <tr>\n",
       "      <th>2000</th>\n",
       "      <td>9.0</td>\n",
       "      <td>700</td>\n",
       "      <td>101325.0</td>\n",
       "      <td>0.000058</td>\n",
       "      <td>0.066</td>\n",
       "      <td>0.70</td>\n",
       "      <td>0.234</td>\n",
       "      <td>0.094286</td>\n",
       "      <td>700.0</td>\n",
       "      <td>1.000000e-10</td>\n",
       "      <td>...</td>\n",
       "      <td>100.0</td>\n",
       "      <td>2.819189e-11</td>\n",
       "      <td>1.059741e-10</td>\n",
       "      <td>0.945337</td>\n",
       "      <td>0.000002</td>\n",
       "      <td>0.054662</td>\n",
       "      <td>0.000002</td>\n",
       "      <td>0.000351</td>\n",
       "      <td>0.000946</td>\n",
       "      <td>0.998701</td>\n",
       "    </tr>\n",
       "    <tr>\n",
       "      <th>2000</th>\n",
       "      <td>9.0</td>\n",
       "      <td>700</td>\n",
       "      <td>101325.0</td>\n",
       "      <td>0.000058</td>\n",
       "      <td>0.066</td>\n",
       "      <td>0.88</td>\n",
       "      <td>0.054</td>\n",
       "      <td>0.075000</td>\n",
       "      <td>700.0</td>\n",
       "      <td>1.000000e-10</td>\n",
       "      <td>...</td>\n",
       "      <td>100.0</td>\n",
       "      <td>2.645086e-11</td>\n",
       "      <td>8.233906e-11</td>\n",
       "      <td>0.950918</td>\n",
       "      <td>0.000002</td>\n",
       "      <td>0.049081</td>\n",
       "      <td>0.000002</td>\n",
       "      <td>0.000350</td>\n",
       "      <td>0.000946</td>\n",
       "      <td>0.998702</td>\n",
       "    </tr>\n",
       "    <tr>\n",
       "      <th>2000</th>\n",
       "      <td>9.0</td>\n",
       "      <td>700</td>\n",
       "      <td>101325.0</td>\n",
       "      <td>0.000058</td>\n",
       "      <td>0.066</td>\n",
       "      <td>0.80</td>\n",
       "      <td>0.134</td>\n",
       "      <td>0.082500</td>\n",
       "      <td>700.0</td>\n",
       "      <td>1.000000e-10</td>\n",
       "      <td>...</td>\n",
       "      <td>100.0</td>\n",
       "      <td>2.719092e-11</td>\n",
       "      <td>8.880345e-11</td>\n",
       "      <td>0.948727</td>\n",
       "      <td>0.000002</td>\n",
       "      <td>0.051271</td>\n",
       "      <td>0.000002</td>\n",
       "      <td>0.000351</td>\n",
       "      <td>0.000946</td>\n",
       "      <td>0.998701</td>\n",
       "    </tr>\n",
       "    <tr>\n",
       "      <th>2000</th>\n",
       "      <td>9.0</td>\n",
       "      <td>700</td>\n",
       "      <td>101325.0</td>\n",
       "      <td>0.000058</td>\n",
       "      <td>0.066</td>\n",
       "      <td>0.90</td>\n",
       "      <td>0.034</td>\n",
       "      <td>0.073333</td>\n",
       "      <td>700.0</td>\n",
       "      <td>1.000000e-10</td>\n",
       "      <td>...</td>\n",
       "      <td>100.0</td>\n",
       "      <td>2.814973e-11</td>\n",
       "      <td>8.905375e-11</td>\n",
       "      <td>0.951498</td>\n",
       "      <td>0.000002</td>\n",
       "      <td>0.048500</td>\n",
       "      <td>0.000002</td>\n",
       "      <td>0.000351</td>\n",
       "      <td>0.000946</td>\n",
       "      <td>0.998701</td>\n",
       "    </tr>\n",
       "  </tbody>\n",
       "</table>\n",
       "<p>9 rows × 84 columns</p>\n",
       "</div>"
      ],
      "text/plain": [
       "      Distance (mm)  T (K)    P (Pa)  V (M^3/s)  X_nh3 initial  X_o2 initial  \\\n",
       "2000            9.0    700  101325.0   0.000058          0.066          0.20   \n",
       "2000            9.0    700  101325.0   0.000058          0.066          0.30   \n",
       "2000            9.0    700  101325.0   0.000058          0.066          0.40   \n",
       "2000            9.0    700  101325.0   0.000058          0.066          0.50   \n",
       "2000            9.0    700  101325.0   0.000058          0.066          0.60   \n",
       "2000            9.0    700  101325.0   0.000058          0.066          0.70   \n",
       "2000            9.0    700  101325.0   0.000058          0.066          0.88   \n",
       "2000            9.0    700  101325.0   0.000058          0.066          0.80   \n",
       "2000            9.0    700  101325.0   0.000058          0.066          0.90   \n",
       "\n",
       "      X_he initial  (NH3/O2)  T (K) final          Rtol  ...  \\\n",
       "2000         0.734  0.330000        700.0  1.000000e-10  ...   \n",
       "2000         0.634  0.220000        700.0  1.000000e-10  ...   \n",
       "2000         0.534  0.165000        700.0  1.000000e-10  ...   \n",
       "2000         0.434  0.132000        700.0  1.000000e-10  ...   \n",
       "2000         0.334  0.110000        700.0  1.000000e-10  ...   \n",
       "2000         0.234  0.094286        700.0  1.000000e-10  ...   \n",
       "2000         0.054  0.075000        700.0  1.000000e-10  ...   \n",
       "2000         0.134  0.082500        700.0  1.000000e-10  ...   \n",
       "2000         0.034  0.073333        700.0  1.000000e-10  ...   \n",
       "\n",
       "      N2(4) Selectivity (%) NO(5) Selectivity (%) N2O(7) Selectivity (%)  \\\n",
       "2000                  100.0          2.657451e-11           3.083846e-11   \n",
       "2000                  100.0          2.660415e-11           1.051949e-11   \n",
       "2000                  100.0          2.798176e-11          -7.341873e-08   \n",
       "2000                  100.0          2.866110e-11           3.754642e-11   \n",
       "2000                  100.0          2.858268e-11           1.051531e-10   \n",
       "2000                  100.0          2.819189e-11           1.059741e-10   \n",
       "2000                  100.0          2.645086e-11           8.233906e-11   \n",
       "2000                  100.0          2.719092e-11           8.880345e-11   \n",
       "2000                  100.0          2.814973e-11           8.905375e-11   \n",
       "\n",
       "      OX Coverage  OHX Coverage  X(H) Coverage  NOX Coverage  NX Coverage  \\\n",
       "2000     0.903101      0.000002       0.096897      0.000002     0.000353   \n",
       "2000     0.919310      0.000002       0.080688      0.000002     0.000353   \n",
       "2000     0.929134      0.000002       0.070865      0.000002     0.000352   \n",
       "2000     0.936160      0.000002       0.063838      0.000002     0.000352   \n",
       "2000     0.941284      0.000002       0.058714      0.000002     0.000351   \n",
       "2000     0.945337      0.000002       0.054662      0.000002     0.000351   \n",
       "2000     0.950918      0.000002       0.049081      0.000002     0.000350   \n",
       "2000     0.948727      0.000002       0.051271      0.000002     0.000351   \n",
       "2000     0.951498      0.000002       0.048500      0.000002     0.000351   \n",
       "\n",
       "      NH3X Coverage  X(N) Coverage  \n",
       "2000       0.000946       0.998698  \n",
       "2000       0.000946       0.998699  \n",
       "2000       0.000946       0.998700  \n",
       "2000       0.000946       0.998700  \n",
       "2000       0.000946       0.998701  \n",
       "2000       0.000946       0.998701  \n",
       "2000       0.000946       0.998702  \n",
       "2000       0.000946       0.998701  \n",
       "2000       0.000946       0.998701  \n",
       "\n",
       "[9 rows x 84 columns]"
      ]
     },
     "execution_count": 22,
     "metadata": {},
     "output_type": "execute_result"
    }
   ],
   "source": [
    "data_dict[commit].to_csv(\"rebrov_no_gasrxn_data_O2.csv\")\n",
    "data_dict[commit]"
   ]
  },
  {
   "cell_type": "code",
   "execution_count": 24,
   "metadata": {},
   "outputs": [
    {
     "data": {
      "text/plain": [
       "<AxesSubplot:xlabel='X_o2 initial', ylabel='NH3(6) conversion (%)'>"
      ]
     },
     "execution_count": 24,
     "metadata": {},
     "output_type": "execute_result"
    },
    {
     "data": {
      "image/png": "[encoded data removed]",
      "text/plain": [
       "<Figure size 432x288 with 1 Axes>"
      ]
     },
     "metadata": {
      "needs_background": "light"
     },
     "output_type": "display_data"
    }
   ],
   "source": [
    "data_dict[commit].plot.scatter(x='X_o2 initial',y='NH3(6) conversion (%)',label='NH3(6) conversion (%)',color=\"r\")\n"
   ]
  },
  {
   "cell_type": "code",
   "execution_count": 25,
   "metadata": {},
   "outputs": [
    {
     "data": {
      "image/png": "[encoded data removed]",
      "text/plain": [
       "<Figure size 432x288 with 1 Axes>"
      ]
     },
     "metadata": {
      "needs_background": "light"
     },
     "output_type": "display_data"
    }
   ],
   "source": [
    "ax1 = data_dict[commit].plot.scatter(x='X_o2 initial',y='N2(4) Selectivity (%)',\n",
    "                                     label='N2',color=\"orange\")\n",
    "ax2 = data_dict[commit].plot.scatter(x='X_o2 initial',y='N2O(7) Selectivity (%)',\n",
    "                                     label='N2O',color='g', ax=ax1)\n",
    "ax3 = data_dict[commit].plot.scatter(x='X_o2 initial',y='NO(5) Selectivity (%)',\n",
    "                                     label='NO',color='blue', ax=ax1)\n",
    "ax1.set_xlabel(\"O2 partial pressure (atm)\")\n",
    "ax1.set_ylabel(\"Selectivity (%)\")\n",
    "plt.show()"
   ]
  },
  {
   "cell_type": "code",
   "execution_count": 26,
   "metadata": {
    "scrolled": false
   },
   "outputs": [],
   "source": [
    "# ax1 = data_dict[commit].plot(x='X_nh3 initial',y='N2(4) Selectivity (%)',\n",
    "#                                      label='N2',color=\"orange\")\n",
    "# ax2 = data_dict[commit].plot(x='X_nh3 initial',y='N2O(7) Selectivity (%)',\n",
    "#                                      label='N2O',color='g', ax=ax1)\n",
    "# ax3 = data_dict[commit].plot(x='X_nh3 initial',y='NO(5) Selectivity (%)',\n",
    "#                                      label='NO',color='blue', ax=ax1)\n",
    "# ax1.set_xlabel(\"NH3(6) partial pressure (atm)\")\n",
    "# ax1.set_ylabel(\"Selectivity (%)\")\n",
    "# plt.show()"
   ]
  },
  {
   "cell_type": "code",
   "execution_count": 26,
   "metadata": {},
   "outputs": [
    {
     "data": {
      "image/png": "[encoded data removed]",
      "text/plain": [
       "<Figure size 432x288 with 1 Axes>"
      ]
     },
     "metadata": {
      "needs_background": "light"
     },
     "output_type": "display_data"
    }
   ],
   "source": [
    "ax1 = data_dict[commit].plot.scatter(x='X_o2 initial',y='OX Coverage',\n",
    "                                     label='OX',color=\"orange\")\n",
    "ax2 = data_dict[commit].plot.scatter(x='X_o2 initial',y='OHX Coverage',\n",
    "                                     label='OHX',color='g', ax=ax1)\n",
    "ax3 = data_dict[commit].plot.scatter(x='X_o2 initial',y='X(H) Coverage',\n",
    "                                     label='X(H)',color='blue', ax=ax1)\n",
    "ax1.set_xlabel(\"O2 partial pressure (atm)\")\n",
    "ax1.set_ylabel(\"Coverage\")\n",
    "plt.show()"
   ]
  },
  {
   "cell_type": "code",
   "execution_count": 27,
   "metadata": {},
   "outputs": [
    {
     "data": {
      "image/png": "[encoded data removed]",
      "text/plain": [
       "<Figure size 432x288 with 1 Axes>"
      ]
     },
     "metadata": {
      "needs_background": "light"
     },
     "output_type": "display_data"
    }
   ],
   "source": [
    "ax1 = data_dict[commit].plot.scatter(x='X_o2 initial',y='NOX Coverage',\n",
    "                                     label='NO_X',color=\"r\")\n",
    "ax2 = data_dict[commit].plot.scatter(x='X_o2 initial',y='NX Coverage',\n",
    "                                     label='N_X',color='orange', ax=ax1)\n",
    "ax3 = data_dict[commit].plot.scatter(x='X_o2 initial',y='NH3X Coverage',\n",
    "                                     label='NH3_X',color='b', ax=ax1)\n",
    "ax4 = data_dict[commit].plot.scatter(x='X_o2 initial',y='X(N) Coverage',\n",
    "                                     label='X(N)',color='g', ax=ax1)\n",
    "ax1.set_xlabel(\"O2 partial pressure (atm)\")\n",
    "ax1.set_ylabel(\"Coverage\")\n",
    "plt.show()"
   ]
  },
  {
   "cell_type": "markdown",
   "metadata": {},
   "source": [
    "### For Rebrov's selectivity definitions:"
   ]
  },
  {
   "cell_type": "code",
   "execution_count": 43,
   "metadata": {},
   "outputs": [
    {
     "ename": "KeyError",
     "evalue": "'NH3_X(8) + O_X(9) <=> NH2_X(10) + OH_X(11) ROP [kmol/m^2 s]'",
     "output_type": "error",
     "traceback": [
      "\u001b[0;31m---------------------------------------------------------------------------\u001b[0m",
      "\u001b[0;31mKeyError\u001b[0m                                  Traceback (most recent call last)",
      "\u001b[0;32m~/.conda/envs/rmg_env/lib/python3.7/site-packages/pandas/core/indexes/base.py\u001b[0m in \u001b[0;36mget_loc\u001b[0;34m(self, key, method, tolerance)\u001b[0m\n\u001b[1;32m   2897\u001b[0m             \u001b[0;32mtry\u001b[0m\u001b[0;34m:\u001b[0m\u001b[0;34m\u001b[0m\u001b[0;34m\u001b[0m\u001b[0m\n\u001b[0;32m-> 2898\u001b[0;31m                 \u001b[0;32mreturn\u001b[0m \u001b[0mself\u001b[0m\u001b[0;34m.\u001b[0m\u001b[0m_engine\u001b[0m\u001b[0;34m.\u001b[0m\u001b[0mget_loc\u001b[0m\u001b[0;34m(\u001b[0m\u001b[0mcasted_key\u001b[0m\u001b[0;34m)\u001b[0m\u001b[0;34m\u001b[0m\u001b[0;34m\u001b[0m\u001b[0m\n\u001b[0m\u001b[1;32m   2899\u001b[0m             \u001b[0;32mexcept\u001b[0m \u001b[0mKeyError\u001b[0m \u001b[0;32mas\u001b[0m \u001b[0merr\u001b[0m\u001b[0;34m:\u001b[0m\u001b[0;34m\u001b[0m\u001b[0;34m\u001b[0m\u001b[0m\n",
      "\u001b[0;32mpandas/_libs/index.pyx\u001b[0m in \u001b[0;36mpandas._libs.index.IndexEngine.get_loc\u001b[0;34m()\u001b[0m\n",
      "\u001b[0;32mpandas/_libs/index.pyx\u001b[0m in \u001b[0;36mpandas._libs.index.IndexEngine.get_loc\u001b[0;34m()\u001b[0m\n",
      "\u001b[0;32mpandas/_libs/hashtable_class_helper.pxi\u001b[0m in \u001b[0;36mpandas._libs.hashtable.PyObjectHashTable.get_item\u001b[0;34m()\u001b[0m\n",
      "\u001b[0;32mpandas/_libs/hashtable_class_helper.pxi\u001b[0m in \u001b[0;36mpandas._libs.hashtable.PyObjectHashTable.get_item\u001b[0;34m()\u001b[0m\n",
      "\u001b[0;31mKeyError\u001b[0m: 'NH3_X(8) + O_X(9) <=> NH2_X(10) + OH_X(11) ROP [kmol/m^2 s]'",
      "\nThe above exception was the direct cause of the following exception:\n",
      "\u001b[0;31mKeyError\u001b[0m                                  Traceback (most recent call last)",
      "\u001b[0;32m<ipython-input-43-8bf280ddfda7>\u001b[0m in \u001b[0;36m<module>\u001b[0;34m\u001b[0m\n\u001b[1;32m      1\u001b[0m \u001b[0;32mfor\u001b[0m \u001b[0mcommit\u001b[0m \u001b[0;32min\u001b[0m \u001b[0mcommit_list\u001b[0m\u001b[0;34m:\u001b[0m\u001b[0;34m\u001b[0m\u001b[0;34m\u001b[0m\u001b[0m\n\u001b[0;32m----> 2\u001b[0;31m     \u001b[0mL5\u001b[0m \u001b[0;34m=\u001b[0m \u001b[0mdata_dict\u001b[0m\u001b[0;34m[\u001b[0m\u001b[0mcommit\u001b[0m\u001b[0;34m]\u001b[0m\u001b[0;34m[\u001b[0m\u001b[0;34m'NH3_X(8) + O_X(9) <=> NH2_X(10) + OH_X(11) ROP [kmol/m^2 s]'\u001b[0m\u001b[0;34m]\u001b[0m\u001b[0;34m+\u001b[0m\u001b[0mdata_dict\u001b[0m\u001b[0;34m[\u001b[0m\u001b[0mcommit\u001b[0m\u001b[0;34m]\u001b[0m\u001b[0;34m[\u001b[0m\u001b[0;34m'NH2_X(10) + O_X(9) <=> NH_X(12) + OH_X(11) ROP [kmol/m^2 s]'\u001b[0m\u001b[0;34m]\u001b[0m\u001b[0;34m+\u001b[0m\u001b[0mdata_dict\u001b[0m\u001b[0;34m[\u001b[0m\u001b[0mcommit\u001b[0m\u001b[0;34m]\u001b[0m\u001b[0;34m[\u001b[0m\u001b[0;34m'NH_X(12) + O_X(9) <=> N_X(13) + OH_X(11) ROP [kmol/m^2 s]'\u001b[0m\u001b[0;34m]\u001b[0m\u001b[0;34m\u001b[0m\u001b[0;34m\u001b[0m\u001b[0m\n\u001b[0m\u001b[1;32m      3\u001b[0m     \u001b[0mL6\u001b[0m \u001b[0;34m=\u001b[0m \u001b[0mdata_dict\u001b[0m\u001b[0;34m[\u001b[0m\u001b[0mcommit\u001b[0m\u001b[0;34m]\u001b[0m\u001b[0;34m[\u001b[0m\u001b[0;34m'2 N_X(13) <=> N2(4) + 2 X(1) ROP [kmol/m^2 s]'\u001b[0m\u001b[0;34m]\u001b[0m\u001b[0;34m\u001b[0m\u001b[0;34m\u001b[0m\u001b[0m\n\u001b[1;32m      4\u001b[0m     \u001b[0mL7\u001b[0m \u001b[0;34m=\u001b[0m  \u001b[0mdata_dict\u001b[0m\u001b[0;34m[\u001b[0m\u001b[0mcommit\u001b[0m\u001b[0;34m]\u001b[0m\u001b[0;34m[\u001b[0m\u001b[0;34m'NO_X(14) + N_X(13) <=> N2O(7) + 2 X(1) ROP [kmol/m^2 s]'\u001b[0m\u001b[0;34m]\u001b[0m\u001b[0;34m\u001b[0m\u001b[0;34m\u001b[0m\u001b[0m\n\u001b[1;32m      5\u001b[0m     \u001b[0mL12\u001b[0m \u001b[0;34m=\u001b[0m \u001b[0mdata_dict\u001b[0m\u001b[0;34m[\u001b[0m\u001b[0mcommit\u001b[0m\u001b[0;34m]\u001b[0m\u001b[0;34m[\u001b[0m\u001b[0;34m'NO_X(14) <=> NO(5) + X(1) ROP [kmol/m^2 s]'\u001b[0m\u001b[0;34m]\u001b[0m\u001b[0;34m\u001b[0m\u001b[0;34m\u001b[0m\u001b[0m\n",
      "\u001b[0;32m~/.conda/envs/rmg_env/lib/python3.7/site-packages/pandas/core/frame.py\u001b[0m in \u001b[0;36m__getitem__\u001b[0;34m(self, key)\u001b[0m\n\u001b[1;32m   2904\u001b[0m             \u001b[0;32mif\u001b[0m \u001b[0mself\u001b[0m\u001b[0;34m.\u001b[0m\u001b[0mcolumns\u001b[0m\u001b[0;34m.\u001b[0m\u001b[0mnlevels\u001b[0m \u001b[0;34m>\u001b[0m \u001b[0;36m1\u001b[0m\u001b[0;34m:\u001b[0m\u001b[0;34m\u001b[0m\u001b[0;34m\u001b[0m\u001b[0m\n\u001b[1;32m   2905\u001b[0m                 \u001b[0;32mreturn\u001b[0m \u001b[0mself\u001b[0m\u001b[0;34m.\u001b[0m\u001b[0m_getitem_multilevel\u001b[0m\u001b[0;34m(\u001b[0m\u001b[0mkey\u001b[0m\u001b[0;34m)\u001b[0m\u001b[0;34m\u001b[0m\u001b[0;34m\u001b[0m\u001b[0m\n\u001b[0;32m-> 2906\u001b[0;31m             \u001b[0mindexer\u001b[0m \u001b[0;34m=\u001b[0m \u001b[0mself\u001b[0m\u001b[0;34m.\u001b[0m\u001b[0mcolumns\u001b[0m\u001b[0;34m.\u001b[0m\u001b[0mget_loc\u001b[0m\u001b[0;34m(\u001b[0m\u001b[0mkey\u001b[0m\u001b[0;34m)\u001b[0m\u001b[0;34m\u001b[0m\u001b[0;34m\u001b[0m\u001b[0m\n\u001b[0m\u001b[1;32m   2907\u001b[0m             \u001b[0;32mif\u001b[0m \u001b[0mis_integer\u001b[0m\u001b[0;34m(\u001b[0m\u001b[0mindexer\u001b[0m\u001b[0;34m)\u001b[0m\u001b[0;34m:\u001b[0m\u001b[0;34m\u001b[0m\u001b[0;34m\u001b[0m\u001b[0m\n\u001b[1;32m   2908\u001b[0m                 \u001b[0mindexer\u001b[0m \u001b[0;34m=\u001b[0m \u001b[0;34m[\u001b[0m\u001b[0mindexer\u001b[0m\u001b[0;34m]\u001b[0m\u001b[0;34m\u001b[0m\u001b[0;34m\u001b[0m\u001b[0m\n",
      "\u001b[0;32m~/.conda/envs/rmg_env/lib/python3.7/site-packages/pandas/core/indexes/base.py\u001b[0m in \u001b[0;36mget_loc\u001b[0;34m(self, key, method, tolerance)\u001b[0m\n\u001b[1;32m   2898\u001b[0m                 \u001b[0;32mreturn\u001b[0m \u001b[0mself\u001b[0m\u001b[0;34m.\u001b[0m\u001b[0m_engine\u001b[0m\u001b[0;34m.\u001b[0m\u001b[0mget_loc\u001b[0m\u001b[0;34m(\u001b[0m\u001b[0mcasted_key\u001b[0m\u001b[0;34m)\u001b[0m\u001b[0;34m\u001b[0m\u001b[0;34m\u001b[0m\u001b[0m\n\u001b[1;32m   2899\u001b[0m             \u001b[0;32mexcept\u001b[0m \u001b[0mKeyError\u001b[0m \u001b[0;32mas\u001b[0m \u001b[0merr\u001b[0m\u001b[0;34m:\u001b[0m\u001b[0;34m\u001b[0m\u001b[0;34m\u001b[0m\u001b[0m\n\u001b[0;32m-> 2900\u001b[0;31m                 \u001b[0;32mraise\u001b[0m \u001b[0mKeyError\u001b[0m\u001b[0;34m(\u001b[0m\u001b[0mkey\u001b[0m\u001b[0;34m)\u001b[0m \u001b[0;32mfrom\u001b[0m \u001b[0merr\u001b[0m\u001b[0;34m\u001b[0m\u001b[0;34m\u001b[0m\u001b[0m\n\u001b[0m\u001b[1;32m   2901\u001b[0m \u001b[0;34m\u001b[0m\u001b[0m\n\u001b[1;32m   2902\u001b[0m         \u001b[0;32mif\u001b[0m \u001b[0mtolerance\u001b[0m \u001b[0;32mis\u001b[0m \u001b[0;32mnot\u001b[0m \u001b[0;32mNone\u001b[0m\u001b[0;34m:\u001b[0m\u001b[0;34m\u001b[0m\u001b[0;34m\u001b[0m\u001b[0m\n",
      "\u001b[0;31mKeyError\u001b[0m: 'NH3_X(8) + O_X(9) <=> NH2_X(10) + OH_X(11) ROP [kmol/m^2 s]'"
     ]
    }
   ],
   "source": [
    "for commit in commit_list:\n",
    "    L5 = data_dict[commit]['NH3X + OX <=> NH2_X(8) + OHX ROP [kmol/m^2 s]']+data_dict[commit]['NH2_X(8) + OX <=> NH_X(9) + OHX ROP [kmol/m^2 s]']+data_dict[commit]['NH_X(12) + O_X(9) <=> N_X(13) + OH_X(11) ROP [kmol/m^2 s]']\n",
    "    L6 = data_dict[commit]['2 N_X(13) <=> N2(4) + 2 X(1) ROP [kmol/m^2 s]']\n",
    "    L7 =  data_dict[commit]['NO_X(14) + N_X(13) <=> N2O(7) + 2 X(1) ROP [kmol/m^2 s]']\n",
    "    L12 = data_dict[commit]['NO_X(14) <=> NO(5) + X(1) ROP [kmol/m^2 s]']\n",
    "    L13 = data_dict[commit]['N2O(7) + X(1) <=> N2(4) + O_X(9) ROP [kmol/m^2 s]'] \n",
    "\n",
    "    S_N2 = 2*(L6+L13)/L5\n",
    "    S_N2O = 2*(L7-L13)/L5\n",
    "    S_NO = 1*L12/L5\n",
    "    data_dict[commit]['N2(4) Selectivity (%)'] = 100*S_N2 / (S_N2 + S_NO + S_N2O)\n",
    "    data_dict[commit]['NO(5) Selectivity (%)'] = 100*S_NO / (S_N2 + S_NO + S_N2O)\n",
    "    data_dict[commit]['N2O(7) Selectivity (%)'] = 100*S_N2O / (S_N2 + S_NO + S_N2O)\n",
    "\n",
    "# data_dict[commit]['N2(4) Selectivity (%)']\n",
    "# data_dict[commit]['NO(5) Selectivity (%)']\n",
    "# data_dict[commit]['N2O(7) Selectivity (%)']"
   ]
  },
  {
   "cell_type": "markdown",
   "metadata": {},
   "source": [
    "### Use this if run RMG on master"
   ]
  },
  {
   "cell_type": "code",
   "execution_count": null,
   "metadata": {},
   "outputs": [],
   "source": [
    "for commit in commit_list:\n",
    "    for i in conversion_species:\n",
    "        data_dict[commit]['NH3(6) conversion (%)'] = 100*(data_dict[commit]['X_nh3 initial'] - data_dict[commit][i])/data_dict[commit]['X_nh3 initial']\n",
    "    \n",
    "    for i in selectivity_species:\n",
    "        data_dict[commit][f'{i} Selectivity (%)'] = 100*(data_dict[commit][i])/(data_dict[commit]['X_nh3 initial'] - data_dict[commit]['NH3(6)'])\n",
    "\n",
    "    for i in coverage_species_1:\n",
    "        data_dict[commit][f'{i} Coverage'] = (data_dict[commit][i])/(data_dict[commit]['OX(10)'] + data_dict[commit]['HOX(13)']+ data_dict[commit]['X(1)'])\n",
    "    \n",
    "    for i in coverage_species_2:\n",
    "        data_dict[commit][f'{i} Coverage'] = (data_dict[commit][i])/(data_dict[commit]['NO_ads(27)'] + data_dict[commit]['N_ads(64)']+ data_dict[commit]['H3NX(29)']+ data_dict[commit]['X(1)'])\n",
    "        "
   ]
  },
  {
   "cell_type": "code",
   "execution_count": null,
   "metadata": {},
   "outputs": [],
   "source": [
    "ax1 = data_dict[commit].plot(x='X_nh3 initial',y='OX(10) Coverage',\n",
    "                                     label='O_X',color=\"orange\")\n",
    "ax2 = data_dict[commit].plot(x='X_nh3 initial',y='HOX(13) Coverage',\n",
    "                                     label='OH_X',color='g', ax=ax1)\n",
    "ax3 = data_dict[commit].plot(x='X_nh3 initial',y='X(1) Coverage',\n",
    "                                     label='X',color='blue', ax=ax1)\n",
    "ax1.set_xlabel(\"NH3(6) partial pressure (atm)\")\n",
    "ax1.set_ylabel(\"Coverage (%)\")\n",
    "plt.show()"
   ]
  },
  {
   "cell_type": "code",
   "execution_count": null,
   "metadata": {},
   "outputs": [],
   "source": [
    "ax1 = data_dict[commit].plot(x='X_nh3 initial',y='NO_ads(27) Coverage',\n",
    "                                     label='NO_X',color=\"r\")\n",
    "ax2 = data_dict[commit].plot(x='X_nh3 initial',y='N_ads(72) Coverage',\n",
    "                                     label='N_X',color='orange', ax=ax1)\n",
    "ax3 = data_dict[commit].plot(x='X_nh3 initial',y='H3NX(29) Coverage',\n",
    "                                     label='NH3_X',color='b', ax=ax1)\n",
    "ax4 = data_dict[commit].plot(x='X_nh3 initial',y='X Coverage',\n",
    "                                     label='X',color='g', ax=ax1)\n",
    "ax1.set_xlabel(\"NH3(6) partial pressure (atm)\")\n",
    "ax1.set_ylabel(\"Coverage (%)\")\n",
    "plt.show()"
   ]
  },
  {
   "cell_type": "markdown",
   "metadata": {},
   "source": [
    "### If have temperature range, try this"
   ]
  },
  {
   "cell_type": "code",
   "execution_count": null,
   "metadata": {},
   "outputs": [],
   "source": [
    "\n",
    "temps = data_dict[commit_list[0]]['T (K)'].unique()\n",
    "for commit in commit_list:\n",
    "    for temp in temps:\n",
    "        o2_ratio = data_dict[commit_list[0]]['X_o2 initial'].unique()\n",
    "        fig, ax = plt.subplots(len(o2_ratio),1,figsize=(10,10), constrained_layout = True)\n",
    "        color_dict = { 0:\"r\", 1:\"gold\", 2:\"pink\", 3:\"yellowgreen\",4:\"lightskyblue\"}\n",
    "        for p,j in enumerate(o2_ratio):\n",
    "            data_dict[commit][(data_dict[commit]['X_o2 initial'] == j) &\n",
    "                             (data_dict[commit]['T (K)'] == temp)].plot.scatter(x='X_nh3 initial', \n",
    "                                                                                 y='NH3(6) conversion (%)', \n",
    "                                                                                 label='NH3(6) conversion (%)', \n",
    "                                                                                 ax=ax[p], \n",
    "                                                                                 color=\"r\")\n",
    "                              \n",
    "            ax[p].set_title(f'{commit} \\nmole frac O2 = {j} \\ntemperature {temp}')"
   ]
  },
  {
   "cell_type": "code",
   "execution_count": 16,
   "metadata": {},
   "outputs": [
    {
     "data": {
      "text/plain": [
       "0.06603830951657039"
      ]
     },
     "execution_count": 16,
     "metadata": {},
     "output_type": "execute_result"
    }
   ],
   "source": [
    "pi = 3.14159\n",
    "Pt_radius = 1.15e-9 #m, 23Å/2\n",
    "Pt_mass = 5.43e-4 #g\n",
    "Pt_density = 2.145e7 #g/m3\n",
    "Pt_total_vol = Pt_mass/Pt_density\n",
    "Pt_vol = 4/3*pi*Pt_radius**3\n",
    "numbers_of_Pt = Pt_total_vol/Pt_vol\n",
    "cat_area_total = numbers_of_Pt*4*pi*Pt_radius**2\n",
    "cat_area_total"
   ]
  },
  {
   "cell_type": "code",
   "execution_count": null,
   "metadata": {},
   "outputs": [],
   "source": []
  }
 ],
 "metadata": {
  "kernelspec": {
   "display_name": "rmg_env",
   "language": "python",
   "name": "rmg_env"
  },
  "language_info": {
   "codemirror_mode": {
    "name": "ipython",
    "version": 3
   },
   "file_extension": ".py",
   "mimetype": "text/x-python",
   "name": "python",
   "nbconvert_exporter": "python",
   "pygments_lexer": "ipython3",
   "version": "3.7.7"
  }
 },
 "nbformat": 4,
 "nbformat_minor": 4
}
